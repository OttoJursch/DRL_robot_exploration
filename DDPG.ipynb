{
  "nbformat": 4,
  "nbformat_minor": 0,
  "metadata": {
    "colab": {
      "name": "DDPG.ipynb",
      "provenance": [],
      "include_colab_link": true
    },
    "kernelspec": {
      "display_name": "Python 3",
      "language": "python",
      "name": "python3"
    },
    "language_info": {
      "codemirror_mode": {
        "name": "ipython",
        "version": 3
      },
      "file_extension": ".py",
      "mimetype": "text/x-python",
      "name": "python",
      "nbconvert_exporter": "python",
      "pygments_lexer": "ipython3",
      "version": "3.7.0"
    },
    "accelerator": "GPU"
  },
  "cells": [
    {
      "cell_type": "markdown",
      "metadata": {
        "id": "view-in-github",
        "colab_type": "text"
      },
      "source": [
        "<a href=\"https://colab.research.google.com/github/OttoJursch/DRL_robot_exploration/blob/master/DDPG.ipynb\" target=\"_parent\"><img src=\"https://colab.research.google.com/assets/colab-badge.svg\" alt=\"Open In Colab\"/></a>"
      ]
    },
    {
      "cell_type": "code",
      "metadata": {
        "colab": {
          "base_uri": "https://localhost:8080/"
        },
        "id": "AJBqQwnOM5hX",
        "outputId": "efd6904b-7ea7-4255-a568-08fa876f216d"
      },
      "source": [
        "#Install pybind11\n",
        "!git clone https://github.com/pybind/pybind11.git\n",
        "!cd pybind11 && mkdir build && cd build && cmake .. && make install"
      ],
      "execution_count": 1,
      "outputs": [
        {
          "output_type": "stream",
          "text": [
            "Cloning into 'pybind11'...\n",
            "remote: Enumerating objects: 13942, done.\u001b[K\n",
            "remote: Total 13942 (delta 0), reused 0 (delta 0), pack-reused 13942\u001b[K\n",
            "Receiving objects: 100% (13942/13942), 5.40 MiB | 23.42 MiB/s, done.\n",
            "Resolving deltas: 100% (9492/9492), done.\n",
            "-- The CXX compiler identification is GNU 7.5.0\n",
            "-- Check for working CXX compiler: /usr/bin/c++\n",
            "-- Check for working CXX compiler: /usr/bin/c++ -- works\n",
            "-- Detecting CXX compiler ABI info\n",
            "-- Detecting CXX compiler ABI info - done\n",
            "-- Detecting CXX compile features\n",
            "-- Detecting CXX compile features - done\n",
            "-- pybind11 v2.6.2 dev1\n",
            "-- CMake 3.12.0\n",
            "-- Found PythonInterp: /usr/bin/python3.6 (found version \"3.6.9\") \n",
            "-- Found PythonLibs: /usr/lib/x86_64-linux-gnu/libpython3.6m.so\n",
            "-- PYTHON 3.6.9\n",
            "-- Performing Test HAS_FLTO\n",
            "-- Performing Test HAS_FLTO - Success\n",
            "-- pybind11::lto enabled\n",
            "-- pybind11::thin_lto enabled\n",
            "-- Setting tests build type to MinSizeRel as none was specified\n",
            "-- Building tests WITHOUT Eigen, use -DDOWNLOAD_EIGEN on CMake 3.11+ to download\n",
            "-- Boost version: 1.65.1\n",
            "-- Found pytest 3.6.4\n",
            "-- Catch not detected. Interpreter tests will be skipped. Install Catch headers manually or use `cmake -DDOWNLOAD_CATCH=ON` to fetch them automatically.\n",
            "-- Configuring done\n",
            "-- Generating done\n",
            "-- Build files have been written to: /content/pybind11/build\n",
            "\u001b[35m\u001b[1mScanning dependencies of target pybind11_cross_module_tests\u001b[0m\n",
            "[  2%] \u001b[32mBuilding CXX object tests/CMakeFiles/pybind11_cross_module_tests.dir/pybind11_cross_module_tests.cpp.o\u001b[0m\n",
            "[  4%] \u001b[32m\u001b[1mLinking CXX shared module pybind11_cross_module_tests.cpython-36m-x86_64-linux-gnu.so\u001b[0m\n",
            "[  4%] Built target pybind11_cross_module_tests\n",
            "\u001b[35m\u001b[1mScanning dependencies of target pybind11_tests\u001b[0m\n",
            "[  7%] \u001b[32mBuilding CXX object tests/CMakeFiles/pybind11_tests.dir/pybind11_tests.cpp.o\u001b[0m\n",
            "[  9%] \u001b[32mBuilding CXX object tests/CMakeFiles/pybind11_tests.dir/test_async.cpp.o\u001b[0m\n",
            "[ 11%] \u001b[32mBuilding CXX object tests/CMakeFiles/pybind11_tests.dir/test_buffers.cpp.o\u001b[0m\n",
            "[ 14%] \u001b[32mBuilding CXX object tests/CMakeFiles/pybind11_tests.dir/test_builtin_casters.cpp.o\u001b[0m\n",
            "[ 16%] \u001b[32mBuilding CXX object tests/CMakeFiles/pybind11_tests.dir/test_call_policies.cpp.o\u001b[0m\n",
            "[ 19%] \u001b[32mBuilding CXX object tests/CMakeFiles/pybind11_tests.dir/test_callbacks.cpp.o\u001b[0m\n",
            "[ 21%] \u001b[32mBuilding CXX object tests/CMakeFiles/pybind11_tests.dir/test_chrono.cpp.o\u001b[0m\n",
            "[ 23%] \u001b[32mBuilding CXX object tests/CMakeFiles/pybind11_tests.dir/test_class.cpp.o\u001b[0m\n",
            "[ 26%] \u001b[32mBuilding CXX object tests/CMakeFiles/pybind11_tests.dir/test_constants_and_functions.cpp.o\u001b[0m\n",
            "[ 28%] \u001b[32mBuilding CXX object tests/CMakeFiles/pybind11_tests.dir/test_copy_move.cpp.o\u001b[0m\n",
            "[ 30%] \u001b[32mBuilding CXX object tests/CMakeFiles/pybind11_tests.dir/test_custom_type_casters.cpp.o\u001b[0m\n",
            "[ 33%] \u001b[32mBuilding CXX object tests/CMakeFiles/pybind11_tests.dir/test_docstring_options.cpp.o\u001b[0m\n",
            "[ 35%] \u001b[32mBuilding CXX object tests/CMakeFiles/pybind11_tests.dir/test_enum.cpp.o\u001b[0m\n",
            "[ 38%] \u001b[32mBuilding CXX object tests/CMakeFiles/pybind11_tests.dir/test_eval.cpp.o\u001b[0m\n",
            "[ 40%] \u001b[32mBuilding CXX object tests/CMakeFiles/pybind11_tests.dir/test_exceptions.cpp.o\u001b[0m\n",
            "[ 42%] \u001b[32mBuilding CXX object tests/CMakeFiles/pybind11_tests.dir/test_factory_constructors.cpp.o\u001b[0m\n",
            "[ 45%] \u001b[32mBuilding CXX object tests/CMakeFiles/pybind11_tests.dir/test_gil_scoped.cpp.o\u001b[0m\n",
            "[ 47%] \u001b[32mBuilding CXX object tests/CMakeFiles/pybind11_tests.dir/test_iostream.cpp.o\u001b[0m\n",
            "[ 50%] \u001b[32mBuilding CXX object tests/CMakeFiles/pybind11_tests.dir/test_kwargs_and_defaults.cpp.o\u001b[0m\n",
            "[ 52%] \u001b[32mBuilding CXX object tests/CMakeFiles/pybind11_tests.dir/test_local_bindings.cpp.o\u001b[0m\n",
            "[ 54%] \u001b[32mBuilding CXX object tests/CMakeFiles/pybind11_tests.dir/test_methods_and_attributes.cpp.o\u001b[0m\n",
            "[ 57%] \u001b[32mBuilding CXX object tests/CMakeFiles/pybind11_tests.dir/test_modules.cpp.o\u001b[0m\n",
            "[ 59%] \u001b[32mBuilding CXX object tests/CMakeFiles/pybind11_tests.dir/test_multiple_inheritance.cpp.o\u001b[0m\n",
            "[ 61%] \u001b[32mBuilding CXX object tests/CMakeFiles/pybind11_tests.dir/test_numpy_array.cpp.o\u001b[0m\n",
            "[ 64%] \u001b[32mBuilding CXX object tests/CMakeFiles/pybind11_tests.dir/test_numpy_dtypes.cpp.o\u001b[0m\n",
            "[ 66%] \u001b[32mBuilding CXX object tests/CMakeFiles/pybind11_tests.dir/test_numpy_vectorize.cpp.o\u001b[0m\n",
            "[ 69%] \u001b[32mBuilding CXX object tests/CMakeFiles/pybind11_tests.dir/test_opaque_types.cpp.o\u001b[0m\n",
            "[ 71%] \u001b[32mBuilding CXX object tests/CMakeFiles/pybind11_tests.dir/test_operator_overloading.cpp.o\u001b[0m\n",
            "[ 73%] \u001b[32mBuilding CXX object tests/CMakeFiles/pybind11_tests.dir/test_pickling.cpp.o\u001b[0m\n",
            "[ 76%] \u001b[32mBuilding CXX object tests/CMakeFiles/pybind11_tests.dir/test_pytypes.cpp.o\u001b[0m\n",
            "[ 78%] \u001b[32mBuilding CXX object tests/CMakeFiles/pybind11_tests.dir/test_sequences_and_iterators.cpp.o\u001b[0m\n",
            "[ 80%] \u001b[32mBuilding CXX object tests/CMakeFiles/pybind11_tests.dir/test_smart_ptr.cpp.o\u001b[0m\n",
            "[ 83%] \u001b[32mBuilding CXX object tests/CMakeFiles/pybind11_tests.dir/test_stl.cpp.o\u001b[0m\n",
            "[ 85%] \u001b[32mBuilding CXX object tests/CMakeFiles/pybind11_tests.dir/test_stl_binders.cpp.o\u001b[0m\n",
            "[ 88%] \u001b[32mBuilding CXX object tests/CMakeFiles/pybind11_tests.dir/test_tagbased_polymorphic.cpp.o\u001b[0m\n",
            "[ 90%] \u001b[32mBuilding CXX object tests/CMakeFiles/pybind11_tests.dir/test_union.cpp.o\u001b[0m\n",
            "[ 92%] \u001b[32mBuilding CXX object tests/CMakeFiles/pybind11_tests.dir/test_virtual_functions.cpp.o\u001b[0m\n",
            "[ 95%] \u001b[32m\u001b[1mLinking CXX shared module pybind11_tests.cpython-36m-x86_64-linux-gnu.so\u001b[0m\n",
            "------ pybind11_tests.cpython-36m-x86_64-linux-gnu.so file size: 2032248\n",
            "[ 95%] Built target pybind11_tests\n",
            "\u001b[35m\u001b[1mScanning dependencies of target cross_module_gil_utils\u001b[0m\n",
            "[ 97%] \u001b[32mBuilding CXX object tests/CMakeFiles/cross_module_gil_utils.dir/cross_module_gil_utils.cpp.o\u001b[0m\n",
            "[100%] \u001b[32m\u001b[1mLinking CXX shared module cross_module_gil_utils.cpython-36m-x86_64-linux-gnu.so\u001b[0m\n",
            "[100%] Built target cross_module_gil_utils\n",
            "\u001b[36mInstall the project...\u001b[0m\n",
            "-- Install configuration: \"MinSizeRel\"\n",
            "-- Installing: /usr/local/include/pybind11\n",
            "-- Installing: /usr/local/include/pybind11/attr.h\n",
            "-- Installing: /usr/local/include/pybind11/numpy.h\n",
            "-- Installing: /usr/local/include/pybind11/eigen.h\n",
            "-- Installing: /usr/local/include/pybind11/pytypes.h\n",
            "-- Installing: /usr/local/include/pybind11/buffer_info.h\n",
            "-- Installing: /usr/local/include/pybind11/iostream.h\n",
            "-- Installing: /usr/local/include/pybind11/stl_bind.h\n",
            "-- Installing: /usr/local/include/pybind11/eval.h\n",
            "-- Installing: /usr/local/include/pybind11/common.h\n",
            "-- Installing: /usr/local/include/pybind11/chrono.h\n",
            "-- Installing: /usr/local/include/pybind11/operators.h\n",
            "-- Installing: /usr/local/include/pybind11/cast.h\n",
            "-- Installing: /usr/local/include/pybind11/pybind11.h\n",
            "-- Installing: /usr/local/include/pybind11/complex.h\n",
            "-- Installing: /usr/local/include/pybind11/detail\n",
            "-- Installing: /usr/local/include/pybind11/detail/init.h\n",
            "-- Installing: /usr/local/include/pybind11/detail/common.h\n",
            "-- Installing: /usr/local/include/pybind11/detail/class.h\n",
            "-- Installing: /usr/local/include/pybind11/detail/typeid.h\n",
            "-- Installing: /usr/local/include/pybind11/detail/internals.h\n",
            "-- Installing: /usr/local/include/pybind11/detail/descr.h\n",
            "-- Installing: /usr/local/include/pybind11/functional.h\n",
            "-- Installing: /usr/local/include/pybind11/stl.h\n",
            "-- Installing: /usr/local/include/pybind11/embed.h\n",
            "-- Installing: /usr/local/include/pybind11/options.h\n",
            "-- Installing: /usr/local/share/cmake/pybind11/pybind11Config.cmake\n",
            "-- Installing: /usr/local/share/cmake/pybind11/pybind11ConfigVersion.cmake\n",
            "-- Installing: /usr/local/share/cmake/pybind11/FindPythonLibsNew.cmake\n",
            "-- Installing: /usr/local/share/cmake/pybind11/pybind11Common.cmake\n",
            "-- Installing: /usr/local/share/cmake/pybind11/pybind11Tools.cmake\n",
            "-- Installing: /usr/local/share/cmake/pybind11/pybind11NewTools.cmake\n",
            "-- Installing: /usr/local/share/cmake/pybind11/pybind11Targets.cmake\n"
          ],
          "name": "stdout"
        }
      ]
    },
    {
      "cell_type": "code",
      "metadata": {
        "id": "WwAQeZFoM8IL",
        "colab": {
          "base_uri": "https://localhost:8080/"
        },
        "outputId": "256f2e06-b610-4b73-839d-d0bfb3f1f4bc"
      },
      "source": [
        "#Install Eigen\n",
        "!apt install libeigen3-dev\n",
        "!ln -sf /usr/include/eigen3/Eigen /usr/include/Eigen"
      ],
      "execution_count": 2,
      "outputs": [
        {
          "output_type": "stream",
          "text": [
            "Reading package lists... Done\n",
            "Building dependency tree       \n",
            "Reading state information... Done\n",
            "Suggested packages:\n",
            "  libeigen3-doc libmrpt-dev\n",
            "The following NEW packages will be installed:\n",
            "  libeigen3-dev\n",
            "0 upgraded, 1 newly installed, 0 to remove and 14 not upgraded.\n",
            "Need to get 810 kB of archives.\n",
            "After this operation, 7,128 kB of additional disk space will be used.\n",
            "Get:1 http://archive.ubuntu.com/ubuntu bionic/universe amd64 libeigen3-dev all 3.3.4-4 [810 kB]\n",
            "Fetched 810 kB in 1s (643 kB/s)\n",
            "Selecting previously unselected package libeigen3-dev.\n",
            "(Reading database ... 144865 files and directories currently installed.)\n",
            "Preparing to unpack .../libeigen3-dev_3.3.4-4_all.deb ...\n",
            "Unpacking libeigen3-dev (3.3.4-4) ...\n",
            "Setting up libeigen3-dev (3.3.4-4) ...\n"
          ],
          "name": "stdout"
        }
      ]
    },
    {
      "cell_type": "code",
      "metadata": {
        "id": "wohYNJjVNAs3",
        "colab": {
          "base_uri": "https://localhost:8080/"
        },
        "outputId": "37b041fd-58d1-4aef-bc6b-8509ea473f98"
      },
      "source": [
        "# Install dependencies on colab\n",
        "!git clone https://github.com/OttoJursch/DRL_robot_exploration.git"
      ],
      "execution_count": 3,
      "outputs": [
        {
          "output_type": "stream",
          "text": [
            "Cloning into 'DRL_robot_exploration'...\n",
            "remote: Enumerating objects: 3, done.\u001b[K\n",
            "remote: Counting objects: 100% (3/3), done.\u001b[K\n",
            "remote: Compressing objects: 100% (3/3), done.\u001b[K\n",
            "remote: Total 11329 (delta 0), reused 0 (delta 0), pack-reused 11326\u001b[K\n",
            "Receiving objects: 100% (11329/11329), 322.18 MiB | 34.04 MiB/s, done.\n",
            "Resolving deltas: 100% (256/256), done.\n",
            "Checking out files: 100% (10923/10923), done.\n"
          ],
          "name": "stdout"
        }
      ]
    },
    {
      "cell_type": "code",
      "metadata": {
        "id": "Tdbx9dj_zRQ_",
        "colab": {
          "base_uri": "https://localhost:8080/"
        },
        "outputId": "30eb2edc-5927-4637-ce62-34c93a94b760"
      },
      "source": [
        "!#Build the C++/pybind stuff\n",
        "!rm -rf DRL_robot_exploration/build\n",
        "!cd DRL_robot_exploration && mkdir build && cd build && cmake .. && make"
      ],
      "execution_count": 4,
      "outputs": [
        {
          "output_type": "stream",
          "text": [
            "-- The C compiler identification is GNU 7.5.0\n",
            "-- The CXX compiler identification is GNU 7.5.0\n",
            "-- Check for working C compiler: /usr/bin/cc\n",
            "-- Check for working C compiler: /usr/bin/cc -- works\n",
            "-- Detecting C compiler ABI info\n",
            "-- Detecting C compiler ABI info - done\n",
            "-- Detecting C compile features\n",
            "-- Detecting C compile features - done\n",
            "-- Check for working CXX compiler: /usr/bin/c++\n",
            "-- Check for working CXX compiler: /usr/bin/c++ -- works\n",
            "-- Detecting CXX compiler ABI info\n",
            "-- Detecting CXX compiler ABI info - done\n",
            "-- Detecting CXX compile features\n",
            "-- Detecting CXX compile features - done\n",
            "-- Found PythonInterp: /usr/bin/python3 (found version \"3.6.9\") \n",
            "-- Found PythonLibs: /usr/lib/x86_64-linux-gnu/libpython3.6m.so\n",
            "-- Performing Test HAS_FLTO\n",
            "-- Performing Test HAS_FLTO - Success\n",
            "-- Found pybind11: /usr/local/include (found version \"2.6.2\" dev1)\n",
            "-- Configuring done\n",
            "-- Generating done\n",
            "-- Build files have been written to: /content/DRL_robot_exploration/build\n",
            "\u001b[35m\u001b[1mScanning dependencies of target astar\u001b[0m\n",
            "[ 25%] \u001b[32mBuilding CXX object CMakeFiles/astar.dir/src/astar.cpp.o\u001b[0m\n",
            "\u001b[01m\u001b[K/content/DRL_robot_exploration/src/astar.cpp:\u001b[m\u001b[K In function ‘\u001b[01m\u001b[KPyObject* pybind11_init()\u001b[m\u001b[K’:\n",
            "\u001b[01m\u001b[K/content/DRL_robot_exploration/src/astar.cpp:140:32:\u001b[m\u001b[K \u001b[01;35m\u001b[Kwarning: \u001b[m\u001b[K‘\u001b[01m\u001b[Kpybind11::module_::module_(const char*, const char*)\u001b[m\u001b[K’ is deprecated: Use PYBIND11_MODULE or module_::create_extension_module instead [\u001b[01;35m\u001b[K-Wdeprecated-declarations\u001b[m\u001b[K]\n",
            "   py::module m(\"astar\", \"astar\"\u001b[01;35m\u001b[K)\u001b[m\u001b[K;\n",
            "                                \u001b[01;35m\u001b[K^\u001b[m\u001b[K\n",
            "In file included from \u001b[01m\u001b[K/usr/local/include/pybind11/numpy.h:12:0\u001b[m\u001b[K,\n",
            "                 from \u001b[01m\u001b[K/usr/local/include/pybind11/eigen.h:12\u001b[m\u001b[K,\n",
            "                 from \u001b[01m\u001b[K/content/DRL_robot_exploration/src/astar.cpp:4\u001b[m\u001b[K:\n",
            "\u001b[01m\u001b[K/usr/local/include/pybind11/pybind11.h:897:14:\u001b[m\u001b[K \u001b[01;36m\u001b[Knote: \u001b[m\u001b[Kdeclared here\n",
            "     explicit \u001b[01;36m\u001b[Kmodule_\u001b[m\u001b[K(const char *name, const char *doc = nullptr) {\n",
            "              \u001b[01;36m\u001b[K^~~~~~~\u001b[m\u001b[K\n",
            "[ 50%] \u001b[32m\u001b[1mLinking CXX shared module astar.cpython-36m-x86_64-linux-gnu.so\u001b[0m\n",
            "[ 50%] Built target astar\n",
            "\u001b[35m\u001b[1mScanning dependencies of target inverse_sensor_model\u001b[0m\n",
            "[ 75%] \u001b[32mBuilding CXX object CMakeFiles/inverse_sensor_model.dir/src/inverse_sensor_model.cpp.o\u001b[0m\n",
            "\u001b[01m\u001b[K/content/DRL_robot_exploration/src/inverse_sensor_model.cpp:\u001b[m\u001b[K In function ‘\u001b[01m\u001b[KPyObject* pybind11_init()\u001b[m\u001b[K’:\n",
            "\u001b[01m\u001b[K/content/DRL_robot_exploration/src/inverse_sensor_model.cpp:64:62:\u001b[m\u001b[K \u001b[01;35m\u001b[Kwarning: \u001b[m\u001b[K‘\u001b[01m\u001b[Kpybind11::module_::module_(const char*, const char*)\u001b[m\u001b[K’ is deprecated: Use PYBIND11_MODULE or module_::create_extension_module instead [\u001b[01;35m\u001b[K-Wdeprecated-declarations\u001b[m\u001b[K]\n",
            "   py::module m(\"inverse_sensor_model\", \"inverse_sensor_model\"\u001b[01;35m\u001b[K)\u001b[m\u001b[K;\n",
            "                                                              \u001b[01;35m\u001b[K^\u001b[m\u001b[K\n",
            "In file included from \u001b[01m\u001b[K/usr/local/include/pybind11/numpy.h:12:0\u001b[m\u001b[K,\n",
            "                 from \u001b[01m\u001b[K/usr/local/include/pybind11/eigen.h:12\u001b[m\u001b[K,\n",
            "                 from \u001b[01m\u001b[K/content/DRL_robot_exploration/src/inverse_sensor_model.cpp:1\u001b[m\u001b[K:\n",
            "\u001b[01m\u001b[K/usr/local/include/pybind11/pybind11.h:897:14:\u001b[m\u001b[K \u001b[01;36m\u001b[Knote: \u001b[m\u001b[Kdeclared here\n",
            "     explicit \u001b[01;36m\u001b[Kmodule_\u001b[m\u001b[K(const char *name, const char *doc = nullptr) {\n",
            "              \u001b[01;36m\u001b[K^~~~~~~\u001b[m\u001b[K\n",
            "[100%] \u001b[32m\u001b[1mLinking CXX shared module inverse_sensor_model.cpython-36m-x86_64-linux-gnu.so\u001b[0m\n",
            "[100%] Built target inverse_sensor_model\n"
          ],
          "name": "stdout"
        }
      ]
    },
    {
      "cell_type": "code",
      "metadata": {
        "id": "iH4Hccvf4Pdh",
        "colab": {
          "base_uri": "https://localhost:8080/"
        },
        "outputId": "adc2952e-ce43-4ce8-bfb8-76e5f49b1cef"
      },
      "source": [
        "!cd DRL_robot_exploration && git pull"
      ],
      "execution_count": 5,
      "outputs": [
        {
          "output_type": "stream",
          "text": [
            "Already up to date.\n"
          ],
          "name": "stdout"
        }
      ]
    },
    {
      "cell_type": "code",
      "metadata": {
        "id": "W0Y_Sk2aubxH"
      },
      "source": [
        "#laptop=True\n",
        "laptop=False"
      ],
      "execution_count": 6,
      "outputs": []
    },
    {
      "cell_type": "code",
      "metadata": {
        "id": "_5BsFx_f9ONI"
      },
      "source": [
        "from copy import deepcopy\n",
        "\n",
        "class PaperRewardFunction:\n",
        "    '''\n",
        "    Reward function from the paper\n",
        "    '''\n",
        "    def __init__(self):\n",
        "        pass\n",
        "\n",
        "    def get_reward(self, robot_position, old_op_map, op_map, coll_index):\n",
        "        '''\n",
        "        Takes in map before step and map after step. Measures effect of sensor\n",
        "        input from last step\n",
        "        '''\n",
        "        if not coll_index:\n",
        "            reward = float(\n",
        "                np.size(np.where(op_map == 255)) - np.size(np.where(old_op_map == 255))) / 14000\n",
        "            if reward > 1:\n",
        "                reward = 1\n",
        "        else:\n",
        "            reward = -1\n",
        "        return reward\n",
        "\n",
        "\n",
        "class FrontierRewardFunction:\n",
        "    def __init__(self, reward_scale):\n",
        "        self.reward_scale = reward_scale\n",
        "        self.paper_reward = PaperRewardFunction()\n",
        "\n",
        "    def frontiers(self, op_map, map_size, points):\n",
        "        y_len = map_size[0]\n",
        "        x_len = map_size[1]\n",
        "        mapping = op_map.copy()\n",
        "        # 0-1 unknown area map\n",
        "        mapping = (mapping == 127) * 1\n",
        "        mapping = np.lib.pad(mapping, ((1, 1), (1, 1)),\n",
        "                             'constant',\n",
        "                             constant_values=0)\n",
        "        fro_map = mapping[2:][:, 1:x_len + 1] + mapping[:y_len][:, 1:x_len + 1] + mapping[1:y_len + 1][:, 2:] + \\\n",
        "                  mapping[1:y_len + 1][:, :x_len] + mapping[:y_len][:, 2:] + mapping[2:][:, :x_len] + mapping[2:][:,\n",
        "                                                                                                      2:] + \\\n",
        "                  mapping[:y_len][:, :x_len]\n",
        "\n",
        "        ind_free = np.where(op_map.ravel(order='F') == 255)[0]\n",
        "        ind_fron_1 = np.where(1 < fro_map.ravel(order='F'))[0]\n",
        "        ind_fron_2 = np.where(fro_map.ravel(order='F') < 8)[0]\n",
        "        ind_fron = np.intersect1d(ind_fron_1, ind_fron_2)\n",
        "        ind_to = np.intersect1d(ind_free, ind_fron)\n",
        "        f = points[ind_to]\n",
        "        f = f.astype(int)\n",
        "        return f\n",
        "\n",
        "    def map_points(self, map_glo):\n",
        "        map_x = map_glo.shape[1]\n",
        "        map_y = map_glo.shape[0]\n",
        "        x = np.linspace(0, map_x - 1, map_x)\n",
        "        y = np.linspace(0, map_y - 1, map_y)\n",
        "        t1, t2 = np.meshgrid(x, y)\n",
        "        points = np.vstack([t1.T.ravel(), t2.T.ravel()]).T\n",
        "        return points\n",
        "\n",
        "    def get_reward(self, robot_pos, old_op_map, op_map, coll_index):\n",
        "        paper_reward = self.paper_reward.get_reward(robot_pos, old_op_map,\n",
        "                                                    op_map, coll_index)\n",
        "\n",
        "        #If there was a collision return the collision reward\n",
        "        if coll_index:\n",
        "            return paper_reward\n",
        "\n",
        "        frontiers = np.array(\n",
        "            self.frontiers(op_map, op_map.shape, self.map_points(op_map)))\n",
        "\n",
        "        min_frontier_dist = -np.min(np.linalg.norm(robot_pos - frontiers, axis=1))\n",
        "        return self.reward_scale * min_frontier_dist + paper_reward\n",
        "\n",
        "sqrt2 = 2**0.5 +0.1\n",
        "class PolarActionSpace:\n",
        "    '''\n",
        "    Action space is polar representation of vector robot should take from its\n",
        "    current position\n",
        "\n",
        "    This class will take that and add it to the current robot position to get \n",
        "    '''\n",
        "    def __init__(self, min_travel, max_travel):\n",
        "        self.max_distance = max_travel\n",
        "        self.min_travel = min_travel\n",
        "\n",
        "    def get_action(self, action_polar_coords, robot_position):\n",
        "        angle = action_polar_coords[0] * (2 * np.pi)\n",
        "        dist = action_polar_coords[1] * (self.max_distance - self.min_travel) + self.min_travel\n",
        "        dx = dist * np.sin(angle)\n",
        "        dy = dist * np.cos(angle)\n",
        "\n",
        "        return np.array([dx, dy])\n"
      ],
      "execution_count": 7,
      "outputs": []
    },
    {
      "cell_type": "code",
      "metadata": {
        "id": "l08KzoEf_xt3"
      },
      "source": [
        "from scipy import spatial\n",
        "from skimage import io\n",
        "import numpy as np\n",
        "import numpy.ma as ma\n",
        "import time\n",
        "import sys\n",
        "from scipy import ndimage\n",
        "from copy import deepcopy\n",
        "import matplotlib.pyplot as plt\n",
        "\n",
        "sys.path.append('DRL_robot_exploration')\n",
        "if laptop:\n",
        "    from build.inverse_sensor_model import *\n",
        "    from build.astar import *\n",
        "else:\n",
        "    from DRL_robot_exploration.build.inverse_sensor_model import *\n",
        "    from DRL_robot_exploration.build.astar import *\n",
        "from random import shuffle\n",
        "import os\n",
        "import random\n",
        "\n",
        "\n",
        "class Robot:\n",
        "    def __init__(self,\n",
        "                 index_map,\n",
        "                 train,\n",
        "                 plot,\n",
        "                 root_dir,\n",
        "                 action_space,\n",
        "                 reward_function,\n",
        "                 do_rescue,\n",
        "                 shuffle=True):\n",
        "        self.mode = train\n",
        "        self.action_space = action_space\n",
        "        self.plot = plot\n",
        "        self.root_dir = root_dir\n",
        "        self.index_map = index_map\n",
        "        self.do_rescue = do_rescue\n",
        "        self.reward_function = reward_function\n",
        "        self.reset(index_map, shuffle)\n",
        "\n",
        "    def reset(self, index_map=None, do_shuffle=True):\n",
        "        if self.mode:\n",
        "            self.map_dir = os.path.join(self.root_dir, 'train')\n",
        "        else:\n",
        "            self.map_dir = os.path.join(self.root_dir, 'test')\n",
        "        self.map_list = os.listdir(self.map_dir)\n",
        "        self.map_number = np.size(self.map_list)\n",
        "        if self.mode and do_shuffle:\n",
        "            shuffle(self.map_list)\n",
        "        if index_map is None:\n",
        "            index_map = random.choice(range(len(self.map_list)))\n",
        "        self.li_map = index_map\n",
        "        self.global_map, self.robot_position = self.map_setup(\n",
        "            self.map_dir + '/' + self.map_list[self.li_map])\n",
        "        self.op_map = np.ones(self.global_map.shape) * 127\n",
        "        self.map_size = np.shape(self.global_map)\n",
        "        self.finish_percent = 0.985\n",
        "        self.resolution = 1\n",
        "        self.sensor_range = 80\n",
        "        self.old_position = np.zeros([2])\n",
        "        self.old_op_map = np.empty([0])\n",
        "        #current_dir = os.path.dirname(os.path.realpath(__file__))\n",
        "        self.t = self.map_points(self.global_map)\n",
        "        self.free_tree = spatial.KDTree(\n",
        "            self.free_points(self.global_map).tolist())\n",
        "        self.robot_size = 6\n",
        "        self.local_size = 40\n",
        "        if self.plot:\n",
        "            self.xPoint = np.array([self.robot_position[0]])\n",
        "            self.yPoint = np.array([self.robot_position[1]])\n",
        "            self.x2frontier = np.empty([0])\n",
        "            self.y2frontier = np.empty([0])\n",
        "\n",
        "\n",
        "        return self.begin(), self.robot_position\n",
        "\n",
        "    def begin(self):\n",
        "        self.op_map = self.inverse_sensor(self.robot_position,\n",
        "                                          self.sensor_range, self.op_map,\n",
        "                                          self.global_map)\n",
        "        step_map = self.robot_model(self.robot_position, self.robot_size,\n",
        "                                    self.t, self.op_map)\n",
        "        map_local = self.local_map(self.robot_position, step_map,\n",
        "                                   self.map_size,\n",
        "                                   self.sensor_range + self.local_size)\n",
        "        if self.plot:\n",
        "            self.plot_env()\n",
        "        return self.op_map\n",
        "\n",
        "    def step(self, action_index):\n",
        "        terminal = False\n",
        "        complete = False\n",
        "        new_location = False\n",
        "        all_map = False\n",
        "        self.old_position = self.robot_position.copy()\n",
        "        self.old_op_map = self.op_map.copy()\n",
        "\n",
        "        # take action\n",
        "        self.take_action(action_index, self.robot_position)\n",
        "\n",
        "        # collision check\n",
        "        collision_points, collision_index = self.collision_check(\n",
        "            self.old_position, self.robot_position, self.map_size,\n",
        "            self.global_map)\n",
        "\n",
        "        if collision_index:\n",
        "            self.robot_position = self.nearest_free(self.free_tree,\n",
        "                                                    collision_points)\n",
        "            self.op_map = self.inverse_sensor(self.robot_position,\n",
        "                                              self.sensor_range, self.op_map,\n",
        "                                              self.global_map)\n",
        "            step_map = self.robot_model(self.robot_position, self.robot_size,\n",
        "                                        self.t, self.op_map)\n",
        "        else:\n",
        "            self.op_map = self.inverse_sensor(self.robot_position,\n",
        "                                              self.sensor_range, self.op_map,\n",
        "                                              self.global_map)\n",
        "            step_map = self.robot_model(self.robot_position, self.robot_size,\n",
        "                                        self.t, self.op_map)\n",
        "\n",
        "        map_local = self.local_map(self.robot_position, step_map,\n",
        "                                   self.map_size,\n",
        "                                   self.sensor_range + self.local_size)\n",
        "        reward = self.reward_function.get_reward(self.robot_position,\n",
        "                                                 self.old_op_map, self.op_map,\n",
        "                                                 collision_index)\n",
        "\n",
        "        if reward <= 0.02 and not collision_index:\n",
        "            reward = -0.8\n",
        "            new_location = True\n",
        "            #terminal = True\n",
        "\n",
        "        # during training, the robot is relocated if it has a collision\n",
        "        # during testing, the robot will use collision check to avoid the collision\n",
        "        if collision_index:\n",
        "            if not self.mode:\n",
        "                new_location = False\n",
        "                terminal = False\n",
        "            else:\n",
        "                new_location = True\n",
        "                terminal = True\n",
        "            if self.plot and self.mode:\n",
        "                self.xPoint = ma.append(self.xPoint, self.robot_position[0])\n",
        "                self.yPoint = ma.append(self.yPoint, self.robot_position[1])\n",
        "                self.plot_env()\n",
        "            self.robot_position = self.old_position.copy()\n",
        "            self.op_map = self.old_op_map.copy()\n",
        "            if self.plot and self.mode:\n",
        "                self.xPoint[self.xPoint.size - 1] = ma.masked\n",
        "                self.yPoint[self.yPoint.size - 1] = ma.masked\n",
        "        else:\n",
        "            if self.plot:\n",
        "                self.xPoint = ma.append(self.xPoint, self.robot_position[0])\n",
        "                self.yPoint = ma.append(self.yPoint, self.robot_position[1])\n",
        "                self.plot_env()\n",
        "\n",
        "        # check if exploration is finished\n",
        "        if np.size(np.where(self.op_map == 255)) / np.size(\n",
        "                np.where(self.global_map == 255)) > self.finish_percent:\n",
        "            self.li_map += 1\n",
        "            if self.li_map == self.map_number:\n",
        "                self.li_map = 0\n",
        "                all_map = True\n",
        "            #self.__init__(self.li_map, self.mode, self.plot)\n",
        "            complete = True\n",
        "            new_location = False\n",
        "            terminal = True\n",
        "\n",
        "        return (\n",
        "            self.op_map, self.robot_position\n",
        "        ), reward, terminal, complete, new_location, collision_index, all_map\n",
        "\n",
        "    def rescuer(self):\n",
        "        complete = False\n",
        "        all_map = False\n",
        "        pre_position = self.robot_position.copy()\n",
        "        robot_position = self.frontier(self.op_map, self.map_size, self.t)[0]\n",
        "        op_map = self.inverse_sensor(robot_position,\n",
        "                                          self.sensor_range, self.op_map,\n",
        "                                          self.global_map)\n",
        "\n",
        "        path = self.astar_path(self.op_map, pre_position.tolist(),\n",
        "                                   robot_position.tolist())\n",
        "        #if self.plot:\n",
        "        #  self.plot_env()\n",
        "        #  self.x2frontier = ma.append(self.x2frontier, ma.masked)\n",
        "        #  self.y2frontier = ma.append(self.y2frontier, ma.masked)\n",
        "        #  self.x2frontier = ma.append(self.x2frontier, path[1, :])\n",
        "        #  self.y2frontier = ma.append(self.y2frontier, path[0, :])\n",
        "        #  self.xPoint = ma.append(self.xPoint, ma.masked)\n",
        "        #  self.yPoint = ma.append(self.yPoint, ma.masked)\n",
        "        #  self.xPoint = ma.append(self.xPoint, self.robot_position[0])\n",
        "        #  self.yPoint = ma.append(self.yPoint, self.robot_position[1])\n",
        "\n",
        "        return op_map, path\n",
        "\n",
        "    def take_action(self, action_index, robot_position):\n",
        "        move_action = self.action_space.get_action(action_index,\n",
        "                                                   robot_position)\n",
        "\n",
        "        robot_position[0] = np.round(robot_position[0] + move_action[0])\n",
        "        robot_position[1] = np.round(robot_position[1] + move_action[1])\n",
        "\n",
        "    def map_setup(self, location):\n",
        "        global_map = (io.imread(location, 1) * 255).astype(int)\n",
        "        robot_location = np.nonzero(global_map == 208)\n",
        "        robot_location = np.array([\n",
        "            np.array(robot_location)[1, 127],\n",
        "            np.array(robot_location)[0, 127]\n",
        "        ])\n",
        "        global_map = (global_map > 150)\n",
        "        global_map = global_map * 254 + 1\n",
        "        return global_map, robot_location\n",
        "\n",
        "    def map_points(self, map_glo):\n",
        "        map_x = map_glo.shape[1]\n",
        "        map_y = map_glo.shape[0]\n",
        "        x = np.linspace(0, map_x - 1, map_x).astype(np.int32)\n",
        "        y = np.linspace(0, map_y - 1, map_y).astype(np.int32)\n",
        "        t1, t2 = np.meshgrid(x, y)\n",
        "        points = np.vstack([t1.T.ravel(), t2.T.ravel()]).T\n",
        "        return points\n",
        "\n",
        "    def local_map(self, robot_location, map_glo, map_size, local_size):\n",
        "        minX = robot_location[0] - local_size\n",
        "        maxX = robot_location[0] + local_size\n",
        "        minY = robot_location[1] - local_size\n",
        "        maxY = robot_location[1] + local_size\n",
        "\n",
        "        if minX < 0:\n",
        "            maxX = abs(minX) + maxX\n",
        "            minX = 0\n",
        "        if maxX > map_size[1]:\n",
        "            minX = minX - (maxX - map_size[1])\n",
        "            maxX = map_size[1]\n",
        "        if minY < 0:\n",
        "            maxY = abs(minY) + maxY\n",
        "            minY = 0\n",
        "        if maxY > map_size[0]:\n",
        "            minY = minY - (maxY - map_size[0])\n",
        "            maxY = map_size[0]\n",
        "\n",
        "        map_loc = map_glo[minY:maxY][:, minX:maxX]\n",
        "        return map_loc\n",
        "\n",
        "    def free_points(self, op_map):\n",
        "        index = np.where(op_map == 255)\n",
        "        free = np.asarray([index[1], index[0]]).T\n",
        "        return free\n",
        "\n",
        "    def nearest_free(self, tree, point):\n",
        "        pts = np.atleast_2d(point)\n",
        "        index = tuple(tree.query(pts)[1])\n",
        "        nearest = tree.data[index]\n",
        "        return nearest\n",
        "\n",
        "    def robot_model(self, position, robot_size, points, map_glo):\n",
        "        map_copy = map_glo.copy()\n",
        "        robot_points = self.range_search(position, robot_size, points)\n",
        "        for i in range(0, robot_points.shape[0]):\n",
        "            rob_loc = np.int32(robot_points[i, :])\n",
        "            rob_loc = np.flipud(rob_loc)\n",
        "            map_copy[tuple(rob_loc)] = 76\n",
        "        map_with_robot = map_copy\n",
        "        return map_with_robot\n",
        "\n",
        "    def range_search(self, position, r, points):\n",
        "        nvar = position.shape[0]\n",
        "        r2 = r**2\n",
        "        s = 0\n",
        "        for d in range(0, nvar):\n",
        "            s += (points[:, d] - position[d])**2\n",
        "        idx = np.nonzero(s <= r2)\n",
        "        idx = np.asarray(idx).ravel()\n",
        "        inrange_points = points[idx, :]\n",
        "        return inrange_points\n",
        "\n",
        "    def collision_check(self, start_point, end_point, map_size, map_glo):\n",
        "        x0, y0 = start_point.round()\n",
        "        x1, y1 = end_point.round()\n",
        "        dx, dy = abs(x1 - x0), abs(y1 - y0)\n",
        "        x, y = x0, y0\n",
        "        error = dx - dy\n",
        "        x_inc = 1 if x1 > x0 else -1\n",
        "        y_inc = 1 if y1 > y0 else -1\n",
        "        dx *= 2\n",
        "        dy *= 2\n",
        "\n",
        "        coll_points = np.ones((1, 2), np.uint8) * -1\n",
        "\n",
        "        while 0 <= x < map_size[1] and 0 <= y < map_size[0]:\n",
        "            k = map_glo.item(y, x)\n",
        "            if k == 1:\n",
        "                coll_points.itemset((0, 0), x)\n",
        "                coll_points.itemset((0, 1), y)\n",
        "                break\n",
        "\n",
        "            if x == end_point[0] and y == end_point[1]:\n",
        "                break\n",
        "\n",
        "            if error > 0:\n",
        "                x += x_inc\n",
        "                error -= dy\n",
        "            else:\n",
        "                y += y_inc\n",
        "                error += dx\n",
        "        if np.sum(coll_points) == -2:\n",
        "            coll_index = False\n",
        "        else:\n",
        "            coll_index = True\n",
        "\n",
        "        return coll_points, coll_index\n",
        "\n",
        "    def inverse_sensor(self, robot_position, sensor_range, op_map, map_glo):\n",
        "        op_map = inverse_sensor_model(robot_position[0], robot_position[1],\n",
        "                                      sensor_range, op_map, map_glo)\n",
        "        return op_map\n",
        "\n",
        "    def frontier(self, op_map, map_size, points):\n",
        "        y_len = map_size[0]\n",
        "        x_len = map_size[1]\n",
        "        mapping = op_map.copy()\n",
        "        # 0-1 unknown area map\n",
        "        mapping = (mapping == 127) * 1\n",
        "        mapping = np.lib.pad(mapping, ((1, 1), (1, 1)),\n",
        "                             'constant',\n",
        "                             constant_values=0)\n",
        "        fro_map = mapping[2:][:, 1:x_len + 1] + mapping[:y_len][:, 1:x_len + 1] + mapping[1:y_len + 1][:, 2:] + \\\n",
        "                  mapping[1:y_len + 1][:, :x_len] + mapping[:y_len][:, 2:] + mapping[2:][:, :x_len] + mapping[2:][:,\n",
        "                                                                                                      2:] + \\\n",
        "                  mapping[:y_len][:, :x_len]\n",
        "        ind_free = np.where(op_map.ravel(order='F') == 255)[0]\n",
        "        ind_fron_1 = np.where(1 < fro_map.ravel(order='F'))[0]\n",
        "        ind_fron_2 = np.where(fro_map.ravel(order='F') < 8)[0]\n",
        "        ind_fron = np.intersect1d(ind_fron_1, ind_fron_2)\n",
        "        ind_to = np.intersect1d(ind_free, ind_fron)\n",
        "        f = points[ind_to]\n",
        "        f = f.astype(int)\n",
        "        return f\n",
        "\n",
        "    def unique_rows(self, a):\n",
        "        a = np.ascontiguousarray(a)\n",
        "        unique_a = np.unique(a.view([('', a.dtype)] * a.shape[1]))\n",
        "        result = unique_a.view(a.dtype).reshape(\n",
        "            (unique_a.shape[0], a.shape[1]))\n",
        "        result = result[~np.isnan(result).any(axis=1)]\n",
        "        return result\n",
        "\n",
        "    def astar_path(self, weights, start, goal, allow_diagonal=True):\n",
        "        temp_start = [start[1], start[0]]\n",
        "        temp_goal = [goal[1], goal[0]]\n",
        "        temp_weight = (weights < 150) * 254 + 1\n",
        "        # For the heuristic to be valid, each move must cost at least 1.\n",
        "        if temp_weight.min(axis=None) < 1.:\n",
        "            raise ValueError(\"Minimum cost to move must be 1, but got %f\" %\n",
        "                             (temp_weight.min(axis=None)))\n",
        "        # Ensure start is within bounds.\n",
        "        if (temp_start[0] < 0 or temp_start[0] >= temp_weight.shape[0]\n",
        "                or temp_start[1] < 0 or temp_start[1] >= temp_weight.shape[1]):\n",
        "            raise ValueError(\"Start lies outside grid.\")\n",
        "        # Ensure goal is within bounds.\n",
        "        if (temp_goal[0] < 0 or temp_goal[0] >= temp_weight.shape[0]\n",
        "                or temp_goal[1] < 0 or temp_goal[1] >= temp_weight.shape[1]):\n",
        "            raise ValueError(\"Goal of lies outside grid.\")\n",
        "\n",
        "        height, width = temp_weight.shape\n",
        "        start_idx = np.ravel_multi_index(temp_start, (height, width))\n",
        "        goal_idx = np.ravel_multi_index(temp_goal, (height, width))\n",
        "\n",
        "        path = astar(\n",
        "            temp_weight.flatten(),\n",
        "            height,\n",
        "            width,\n",
        "            start_idx,\n",
        "            goal_idx,\n",
        "            allow_diagonal,\n",
        "        )\n",
        "        return path\n",
        "\n",
        "    def plot_env(self):\n",
        "        plt.cla()\n",
        "        plt.imshow(self.op_map, cmap='gray')\n",
        "        plt.axis((0, self.map_size[1], self.map_size[0], 0))\n",
        "        plt.plot(self.xPoint, self.yPoint, 'b', linewidth=2)\n",
        "        plt.plot(self.x2frontier, self.y2frontier, 'r', linewidth=2)\n",
        "        plt.plot(self.robot_position[0],\n",
        "                 self.robot_position[1],\n",
        "                 'mo',\n",
        "                 markersize=8)\n",
        "        plt.plot(self.xPoint[0], self.yPoint[0], 'co', markersize=8)\n",
        "        plt.pause(0.05)\n"
      ],
      "execution_count": 8,
      "outputs": []
    },
    {
      "cell_type": "code",
      "metadata": {
        "id": "edUqbZxCxIKW",
        "colab": {
          "base_uri": "https://localhost:8080/",
          "height": 717
        },
        "outputId": "3137ed31-03a7-49c5-ed8f-889cfeee8b15"
      },
      "source": [
        "import numpy as np\n",
        "import random\n",
        "\n",
        "reward_func = PaperRewardFunction()\n",
        "action_space = PolarActionSpace(30, 60)\n",
        "\n",
        "robot = Robot(0, True, False, 'DRL_robot_exploration/DungeonMaps',action_space,reward_func, False)\n",
        "\n",
        "frontiers = robot.frontier(robot.op_map, robot.map_size, robot.t)\n",
        "frontiers = frontiers[np.random.choice(np.arange(0, frontiers.shape[0]), (10,)), :]\n",
        "print(frontiers.shape)\n",
        "print(frontiers)\n",
        "plt.imshow(robot.op_map)\n",
        "plt.scatter(frontiers[:, 0], frontiers[:, 1])\n",
        "plt.show()\n",
        "plt.imshow(robot.op_map)"
      ],
      "execution_count": 80,
      "outputs": [
        {
          "output_type": "stream",
          "text": [
            "(10, 2)\n",
            "[[459 110]\n",
            " [366 132]\n",
            " [304  87]\n",
            " [449 112]\n",
            " [461  97]\n",
            " [365 133]\n",
            " [462  83]\n",
            " [304  88]\n",
            " [353 160]\n",
            " [308 111]]\n"
          ],
          "name": "stdout"
        },
        {
          "output_type": "display_data",
          "data": {
            "image/png": "[encoded data removed]",
            "text/plain": [
              "<Figure size 432x288 with 1 Axes>"
            ]
          },
          "metadata": {
            "tags": [],
            "needs_background": "light"
          }
        },
        {
          "output_type": "execute_result",
          "data": {
            "text/plain": [
              "<matplotlib.image.AxesImage at 0x7fd01d42a2b0>"
            ]
          },
          "metadata": {
            "tags": []
          },
          "execution_count": 80
        },
        {
          "output_type": "display_data",
          "data": {
            "image/png": "[encoded data removed]",
            "text/plain": [
              "<Figure size 432x288 with 1 Axes>"
            ]
          },
          "metadata": {
            "tags": [],
            "needs_background": "light"
          }
        }
      ]
    },
    {
      "cell_type": "code",
      "metadata": {
        "id": "YO_EJKEoNC6T"
      },
      "source": [
        "import torch\n",
        "import torch.nn as nn\n",
        "import torchsummary\n",
        "import numpy as np\n",
        "from torch.nn.utils.rnn import pack_padded_sequence, pad_packed_sequence, pad_sequence\n",
        "\n",
        "def build_conv_feature_extractor(conv_dims, act):\n",
        "  #Create Conv2D + MaxPool layers\n",
        "  conv_layers = [nn.Conv2d(*conv_dim) if len(conv_dim) == 3 else nn.MaxPool2d(conv_dim) for conv_dim in conv_dims]\n",
        "  total_layers = []\n",
        "\n",
        "  #Add ReLU activations after each conv layer\n",
        "  for i, layer in enumerate(conv_layers):\n",
        "    total_layers.append(layer)\n",
        "    if type(layer) == nn.Conv2d:\n",
        "      total_layers.append(act())\n",
        "      total_layers.append(nn.BatchNorm2d(conv_dims[i][1]))\n",
        "  return nn.Sequential(*total_layers)\n",
        "  \n",
        "\n",
        "def get_output_shape(model, image_dim):\n",
        "    return model(torch.rand(*(image_dim))).data.shape\n",
        "\n",
        "class RNNActor(nn.Module):\n",
        "  #TODO Determine if the action space allows negative numbers\n",
        "  #Potentially replace tanh with sigmoid\n",
        "  def __init__(self, conv_dims, lstm_hidden, train_length, input_size=(1, 1,84,84), act=nn.ReLU, final_act=nn.Sigmoid):\n",
        "    super(RNNActor, self).__init__()\n",
        "\n",
        "    self.conv_mod = build_conv_feature_extractor(conv_dims, act)\n",
        "    \n",
        "    #Silly way to determine the size going into the RNN\n",
        "    with torch.no_grad():\n",
        "      feature_size = get_output_shape(self.conv_mod, input_size)\n",
        "\n",
        "    print('LSTM Input Size', feature_size)\n",
        "\n",
        "    #Construct LSTM\n",
        "    self.lstm_hidden = lstm_hidden\n",
        "    self.lstm_input = np.prod(list(feature_size)) + 2\n",
        "    self.lstm = nn.LSTM(self.lstm_input, lstm_hidden)\n",
        "    self.linear = nn.Linear(lstm_hidden, 2)\n",
        "    self.train_length = train_length\n",
        "    self.final_act = final_act()\n",
        "\n",
        "  def forward(self, image, positions, lengths, hidden_state=None):\n",
        "    batch_size = image.size()[1]\n",
        "    seq_length = image.size()[0]\n",
        "    conv = self.conv_mod(image.view((seq_length * batch_size, 1, 84, 84)))\n",
        "\n",
        "    flat = conv.view(-1).view(seq_length, batch_size, self.lstm_input - 2)\n",
        "    state = torch.cat((flat, positions), 2)\n",
        "    packed = pack_padded_sequence(state, lengths, enforce_sorted=False)\n",
        "    self.lstm.flatten_parameters()\n",
        "    if hidden_state is not None:\n",
        "      states, final_state = self.lstm(packed, hidden_state)\n",
        "    else:\n",
        "      states, final_state = self.lstm(packed)\n",
        "\n",
        "    unpacked, end_lengths = pad_packed_sequence(states)\n",
        "    final = self.linear(unpacked)\n",
        "    return self.final_act(final), final_state, end_lengths"
      ],
      "execution_count": 10,
      "outputs": []
    },
    {
      "cell_type": "code",
      "metadata": {
        "id": "UgxUtoeMJ8Pa"
      },
      "source": [
        "def build_dense_regression(linear_dims, act, final_act=None):\n",
        "  linear_layers = [nn.Linear(*linear_dim)  for linear_dim in linear_dims]\n",
        "  activations = [act() for layer in range(len(linear_layers) - 1)]\n",
        "  #batch_norm = [nn.BatchNorm1d() for layer in range(len(linear_layers) - 1)]\n",
        "  #batch_norm.append(nn.Identity())\n",
        "  if final_act is not None:\n",
        "    activations.append(final_act())\n",
        "  else:\n",
        "    activations.append(nn.Identity())\n",
        "  return nn.Sequential(*[val for tup in zip(*[linear_layers, activations]) for val in tup]\n",
        ")\n",
        "\n",
        "class CNNCritic(nn.Module):\n",
        "  def __init__(self, conv_dims, fc_dims, input_size=(1, 1,84,84), conv_act=nn.ReLU, fc_act=nn.ReLU):\n",
        "    super(CNNCritic, self).__init__()\n",
        "    self.conv_mod = build_conv_feature_extractor(conv_dims, conv_act)\n",
        "\n",
        "    #Silly way to determine the size going into the RNN\n",
        "    with torch.no_grad():\n",
        "      feature_size = get_output_shape(self.conv_mod, input_size)\n",
        "\n",
        "    #Add 4 for action + position\n",
        "    feature_size = np.prod(list(feature_size)) + 4\n",
        "    first_output = fc_dims[0][0]\n",
        "    fc_dims.insert(0, (feature_size, first_output))\n",
        "\n",
        "    self.fc = build_dense_regression(fc_dims, fc_act)\n",
        "    self.fc_dims = feature_size\n",
        "\n",
        "    \n",
        "\n",
        "\n",
        "  def forward(self, map, positions, action):\n",
        "    batch_size = map.size()[1]\n",
        "    seq_length =  map.size()[0]\n",
        "    conv = self.conv_mod(map.view((seq_length * batch_size, 1, 84, 84)))\n",
        "\n",
        "    flat = conv.view(-1).view(seq_length, batch_size, self.fc_dims - 4)\n",
        "    total_feats = torch.cat((flat, positions, action), 2)\n",
        "    return self.fc(total_feats)"
      ],
      "execution_count": 11,
      "outputs": []
    },
    {
      "cell_type": "code",
      "metadata": {
        "id": "cjDpPhJi8gvh"
      },
      "source": [
        "class ActorPolicy:\n",
        "  def __init__(self, model):\n",
        "    self.model = model\n",
        "\n",
        "  def __call__(self, map, position):\n",
        "    map = map.to(device='cuda').float().unsqueeze(0).unsqueeze(1)\n",
        "    position = position.to(device='cuda').float().unsqueeze(0)\n",
        "\n",
        "    result = self.model(map, position)\n",
        "\n",
        "    return result.cpu().squeeze(0)\n",
        "\n",
        "class CNNCriticNoSeq(nn.Module):\n",
        "  def __init__(self, conv_dims, fc_dims, input_size=(1, 1,84,84), conv_act=nn.LeakyReLU, fc_act=nn.LeakyReLU):\n",
        "    super(CNNCriticNoSeq, self).__init__()\n",
        "    self.conv_mod = build_conv_feature_extractor(conv_dims, conv_act)\n",
        "\n",
        "    #Silly way to determine the size going into the RNN\n",
        "    with torch.no_grad():\n",
        "      feature_size = get_output_shape(self.conv_mod, input_size)\n",
        "\n",
        "    #Add 4 for action + position\n",
        "    feature_size = np.prod(list(feature_size)) + 4\n",
        "    first_output = fc_dims[0][0]\n",
        "    fc_dims.insert(0, (feature_size, first_output))\n",
        "\n",
        "    self.fc = nn.Linear(feature_size, 1)#build_dense_regression(fc_dims, fc_act)\n",
        "    self.fc_dims = feature_size\n",
        "\n",
        "    \n",
        "\n",
        "\n",
        "  def forward(self, map, positions, action):\n",
        "    conv = self.conv_mod(map)\n",
        "    batch_size = map.size()[0]\n",
        "    flat = conv.view(batch_size, self.fc_dims - 4)\n",
        "#     print('flat', flat.size())\n",
        "#     print('positions', positions.size())\n",
        "    total_feats = torch.cat((flat, positions, action), 1)\n",
        "    return self.fc(total_feats)\n",
        "\n",
        "\n",
        "\n",
        "class FCActor(nn.Module):\n",
        "  #TODO Determine if the action space allows negative numbers\n",
        "  #Potentially replace tanh with sigmoid\n",
        "  def __init__(self, conv_dims, linear_dims, input_size=(1, 1,84,84), act=nn.LeakyReLU, final_act=nn.Sigmoid):\n",
        "    super(FCActor, self).__init__()\n",
        "    self.conv_mod = build_conv_feature_extractor(conv_dims, act)\n",
        "\n",
        "    #Silly way to determine the size going into the RNN\n",
        "    with torch.no_grad():\n",
        "      feature_size = get_output_shape(self.conv_mod, input_size)\n",
        "\n",
        "    #Add 4 for action + position\n",
        "    feature_size = np.prod(list(feature_size)) + 2\n",
        "    first_output = linear_dims[0][0]\n",
        "    linear_dims.insert(0, (feature_size, first_output))\n",
        "\n",
        "    self.fc = nn.Linear(feature_size, 2)#build_dense_regression(linear_dims, act, final_act)\n",
        "    self.fc_dims = feature_size\n",
        "    self.sig = nn.Sigmoid()\n",
        "\n",
        "  def forward(self, map, positions):\n",
        "    conv = self.conv_mod(map)\n",
        "\n",
        "    flat = conv.view(map.size()[0], self.fc_dims - 2)\n",
        "#     print('flat', flat.size())\n",
        "#     print('positions', positions.size())\n",
        "    total_feats = torch.cat((flat, positions), 1)\n",
        "    return self.sig(self.fc(total_feats))"
      ],
      "execution_count": 12,
      "outputs": []
    },
    {
      "cell_type": "code",
      "metadata": {
        "id": "wd5kmOJH0nuq"
      },
      "source": [
        "class CNNCriticNoSeqNoPosition(nn.Module):\n",
        "  def __init__(self, conv_dims, fc_dims, input_size=(1, 1,84,84), conv_act=nn.LeakyReLU, fc_act=nn.LeakyReLU):\n",
        "    super(CNNCriticNoSeq, self).__init__()\n",
        "    self.conv_mod = build_conv_feature_extractor(conv_dims, conv_act)\n",
        "\n",
        "    #Silly way to determine the size going into the RNN\n",
        "    with torch.no_grad():\n",
        "      feature_size = get_output_shape(self.conv_mod, input_size)\n",
        "\n",
        "    #Add 4 for action + position\n",
        "    feature_size = np.prod(list(feature_size)) + 2\n",
        "    first_output = fc_dims[0][0]\n",
        "    fc_dims.insert(0, (feature_size, first_output))\n",
        "\n",
        "    self.fc = nn.Linear(feature_size, 1)#build_dense_regression(fc_dims, fc_act)\n",
        "    self.fc_dims = feature_size\n",
        "\n",
        "    \n",
        "\n",
        "\n",
        "  def forward(self, map, positions, action):\n",
        "    conv = self.conv_mod(map)\n",
        "    batch_size = map.size()[0]\n",
        "    flat = conv.view(batch_size, self.fc_dims - 2)\n",
        "#     print('flat', flat.size())\n",
        "#     print('positions', positions.size())\n",
        "    total_feats = torch.cat((flat, positions, action), 1)\n",
        "    return self.fc(total_feats)\n",
        "\n",
        "\n",
        "\n",
        "class FCActorNoPosition(nn.Module):\n",
        "  #TODO Determine if the action space allows negative numbers\n",
        "  #Potentially replace tanh with sigmoid\n",
        "  def __init__(self, conv_dims, linear_dims, input_size=(1, 1,84,84), act=nn.LeakyReLU, final_act=nn.Sigmoid):\n",
        "    super(FCActor, self).__init__()\n",
        "    self.conv_mod = build_conv_feature_extractor(conv_dims, act)\n",
        "\n",
        "    #Silly way to determine the size going into the RNN\n",
        "    with torch.no_grad():\n",
        "      feature_size = get_output_shape(self.conv_mod, input_size)\n",
        "\n",
        "    #Add 4 for action + position\n",
        "    feature_size = np.prod(list(feature_size))\n",
        "    first_output = linear_dims[0][0]\n",
        "    linear_dims.insert(0, (feature_size, first_output))\n",
        "\n",
        "    self.fc = nn.Linear(feature_size, 2)#build_dense_regression(linear_dims, act, final_act)\n",
        "    self.fc_dims = feature_size\n",
        "    self.sig = nn.Sigmoid()\n",
        "\n",
        "  def forward(self, map, positions):\n",
        "    conv = self.conv_mod(map)\n",
        "\n",
        "    flat = conv.view(map.size()[0], self.fc_dims)\n",
        "#     print('flat', flat.size())\n",
        "#     print('positions', positions.size())\n",
        "    return self.sig(self.fc(flat))"
      ],
      "execution_count": 13,
      "outputs": []
    },
    {
      "cell_type": "code",
      "metadata": {
        "id": "A-eCOZDBC3pg",
        "colab": {
          "base_uri": "https://localhost:8080/"
        },
        "outputId": "df6290c2-5efd-4322-f621-0735bfc7b169"
      },
      "source": [
        "\"\"\" Learn a policy using DDPG for the reach task\"\"\"\n",
        "import numpy as np\n",
        "import torch\n",
        "import time\n",
        "import torch.nn as nn\n",
        "import torch.nn.functional as F\n",
        "import torch.optim as optim\n",
        "from torch.distributions import MultivariateNormal\n",
        "from torch.nn import MSELoss\n",
        "import random\n",
        "from skimage.transform import resize\n",
        "from io import BytesIO\n",
        "import itertools\n",
        "import lmdb\n",
        "from itertools import zip_longest\n",
        "\n",
        "import gym\n",
        "import os\n",
        "\n",
        "import matplotlib.pyplot as plt\n",
        "import copy\n",
        "import time\n",
        "from google.colab import drive\n",
        "drive.mount('/content/drive')\n",
        "\n",
        "def save_models(actor, critic, actor_target, critic_target, i):\n",
        "  torch.save(actor.state_dict(), '/content/drive/My Drive/models/actor_{}.pt'.format(i))\n",
        "  torch.save(critic.state_dict(), '/content/drive/My Drive/models/critic_{}.pt'.format(i))\n",
        "  torch.save(critic_target.state_dict(), '/content/drive/My Drive/models/critic_target_{}.pt'.format(i))\n",
        "  torch.save(actor_target.state_dict(), '/content/drive/My Drive/models/actor_target_{}.pt'.format(i))\n",
        "  \n",
        "\n",
        "# TODO: A function to soft update target networks\n",
        "def weighSync(target_model, source_model, tau=0.001):\n",
        "  for (target, src) in zip(target_model.parameters(), source_model.parameters()):\n",
        "    target.data = (1-tau) * target.data + tau * src.data \n",
        "\n",
        "def grouper(iterable, n, fillvalue=None):\n",
        "  '''Collect data into fixed-length chunks or blocks'''\n",
        "  # grouper('ABCDEFG', 3, 'x') --> ABC DEF Gxx\"\n",
        "  args = [iter(iterable)] * n\n",
        "  return zip_longest(*args, fillvalue=fillvalue)\n",
        "\n",
        "# TODO: Write the ReplayBuffer\n",
        "class Replay():\n",
        "    def __init__(self, buffer_size, init_sequences, max_episode_length, sequence_length, action_dim, env, test_env, env_width, env_height):\n",
        "        \"\"\"\n",
        "        A function to initialize the replay buffer.\n",
        "\n",
        "        param: init_length : Initial number of transitions to collect\n",
        "        param: state_dim : Size of the state space\n",
        "        param: action_dim : Size of the action space\n",
        "        param: env : gym environment object\n",
        "        \"\"\"\n",
        "        try:\n",
        "          os.remove('db.lmdb')\n",
        "        except OSError:\n",
        "          pass\n",
        "        self.db = lmdb.open('db.lmdb', map_size=30e9)\n",
        "        self.buffer = [{}] * buffer_size\n",
        "        self.noise = MultivariateNormal(torch.zeros(2), torch.diag(torch.tensor([0.1, 0.1])))\n",
        "        self.sequence_length = sequence_length\n",
        "        self.max_episode_length = max_episode_length\n",
        "        self.env = env\n",
        "        self.test_env = test_env\n",
        "        state = self.env.reset()\n",
        "        self.buffer_length = buffer_size\n",
        "        self.env_width = env_width\n",
        "        self.env_height = env_height\n",
        "        self.buffer_idx = 0\n",
        "        self.total_steps = 0\n",
        "        last_state = env.reset()\n",
        "        init_policy = lambda map, pos, env: [torch.from_numpy(np.random.uniform(0, 1, (2,)))]\n",
        "        self.full_buffer = False\n",
        "        self.current_pointer = 0\n",
        "\n",
        "        map, position = self.env.reset()\n",
        "        map = np.pad(map, ((map.shape[0], map.shape[1]), (map.shape[0], map.shape[1])), constant_values=127)\n",
        "        #idx = (int(map.shape[0] / 2), int(position[1] - map.shape[1] / 2))\n",
        "        #map = np.roll(map, idx, [0, 1])\n",
        "        map = resize(map, (168, 168))\n",
        "        map = map / 255\n",
        "        position = position.astype(np.float64)\n",
        "        position[0] = position[0] / 480\n",
        "        position[1] = position[1] / 640\n",
        "        action = {'map':torch.from_numpy(map).float(), 'position':torch.from_numpy(position).float()}\n",
        "        \n",
        "        while self.buffer_idx < init_sequences:\n",
        "          action, terminal = self.generate_step(init_policy, action, False)\n",
        "#           print('action', action)\n",
        "#           print('terminal', terminal)\n",
        "          if terminal:\n",
        "            map, position = self.env.reset()\n",
        "\n",
        "            map = resize(map, (168, 168))\n",
        "            map = map / 255\n",
        "            position = position.astype(np.float64)\n",
        "            position[0] = position[0] / 480\n",
        "            position[1] = position[1] / 640\n",
        "            action = {'map':torch.from_numpy(map).float(), 'position':torch.from_numpy(position).float()}\n",
        "\n",
        "\n",
        "    def generate_step(self, policy, last_transition, add_noise=True, store=True, test=False):\n",
        "      if test:\n",
        "        env = self.test_env\n",
        "      else:\n",
        "        env = self.env\n",
        "      episode = []\n",
        "      last_map = last_transition['map']\n",
        "      last_position = last_transition['position']\n",
        "\n",
        "      terminal = False\n",
        "\n",
        "      total_reward = 0\n",
        "\n",
        "      actions = policy(last_map, last_position, env)\n",
        "      last_act = None\n",
        "      for action in actions:\n",
        "        if add_noise:\n",
        "          sampled = self.noise.sample()\n",
        "          #print('adding noise', sampled)\n",
        "          action = action.cpu() + sampled\n",
        "        else:\n",
        "          action = action.cpu()\n",
        "\n",
        "        action_np = action.detach().numpy().flatten()\n",
        "        if action_np[0] < 0:\n",
        "          action_np[0] = abs(action_np[0])\n",
        "        elif action_np[0] > 1:\n",
        "          action_np[0] = action_np[0] - 1\n",
        "\n",
        "        if action_np[1] < 0:\n",
        "          action_np[1] = abs(action_np[1])\n",
        "        elif action_np[1] > 1:\n",
        "          action_np[1] = action_np[1] - 1\n",
        "\n",
        "    \n",
        "\n",
        "        (map, loc), reward, terminal, complete, new_loc, collision, all_map = env.step(action_np)\n",
        "        #map = np.pad(map, ((map.shape[0], map.shape[1]), (map.shape[0], map.shape[1])), constant_values=127)\n",
        "        #idx = (int(map.shape[0] / 2 - loc[0]), int(map.shape[1] / 2 - loc[1]))\n",
        "        #map = np.roll(map, idx, axis=[0, 1])\n",
        "\n",
        "        #print('shifted', idx)\n",
        "        #plt.imshow(map)\n",
        "        #plt.show()\n",
        "        map = resize(map, (168, 168))\n",
        "        map = (map / 255)\n",
        "        loc = loc.astype(np.float64)\n",
        "        loc[0] = loc[0] / 480.0\n",
        "        loc[1] = loc[1] / 640.0\n",
        "\n",
        "        map_tensor = torch.from_numpy(map).float()\n",
        "        position_tensor = torch.from_numpy(loc).float()\n",
        "        reward_tensor = torch.tensor(reward).float()\n",
        "        action = {'last_map':last_map, 'last_position':last_position, 'map': map_tensor.detach(), 'position': position_tensor.detach(), 'reward': reward_tensor.unsqueeze(0).detach(), 'action': action.detach()}\n",
        "        last_act = action\n",
        "        total_reward += reward\n",
        "\n",
        "        if store:\n",
        "          self.write_one_transition(action, self.buffer_idx)\n",
        "          self.buffer_idx = (self.buffer_idx + 1) % len(self.buffer)\n",
        "          if self.buffer_idx == 0:\n",
        "            self.full_buffer = True\n",
        "\n",
        "      return last_act, terminal\n",
        "\n",
        "    def write_one_transition(self, trans, idx):\n",
        "      actions = trans['action']\n",
        "      rewards = trans['reward']\n",
        "      maps = trans['map']\n",
        "      positions = trans['position']\n",
        "\n",
        "      last_map = trans['last_map']\n",
        "      last_position = trans['last_position']\n",
        "\n",
        "#       print('actions', actions.size())\n",
        "#       print('rewards', rewards.size())\n",
        "#       print('maps', maps.size())\n",
        "#       print('positions', positions.size())\n",
        "#       print('last_map', last_map.size())\n",
        "#       print('last_position', last_position.size())\n",
        "\n",
        "      total_tensor = torch.cat((actions, rewards, positions, last_position), 0)\n",
        "      total_maps = torch.cat((maps, last_map), 0)\n",
        "      with self.db.begin(write=True) as txn:\n",
        "        total_bytes = BytesIO()\n",
        "        maps_bytes = BytesIO()\n",
        "\n",
        "        torch.save(total_tensor, total_bytes)\n",
        "        torch.save(total_maps, maps_bytes)\n",
        "        \n",
        "        txn.put('{}_total'.format(idx).encode(), total_bytes.getvalue())\n",
        "        txn.put('{}_maps'.format(idx).encode(), maps_bytes.getvalue())\n",
        "\n",
        "    def sample_transitions(self, N):\n",
        "      \"\"\"\n",
        "      A function to sample N points from the buffer\n",
        "      param: N : Number of samples to obtain from the buffer\n",
        "      \"\"\"\n",
        "      if self.full_buffer:\n",
        "        samples = np.random.permutation(range(self.buffer_length))\n",
        "      else:\n",
        "        samples = np.random.permutation(range(self.buffer_idx))\n",
        "\n",
        "      samples = samples[:N]\n",
        "      return self.read_transitions(samples)\n",
        "\n",
        "    def read_transitions(self, transitions):\n",
        "      maps = []\n",
        "      positions = []\n",
        "      rewards = []\n",
        "      actions = []\n",
        "      last_maps = []\n",
        "      last_positions = []\n",
        "\n",
        "      for seq in transitions:\n",
        "        with self.db.begin() as txn:\n",
        "          total_data = BytesIO(txn.get('{}_total'.format(seq).encode()))\n",
        "          map_data = BytesIO(txn.get('{}_maps'.format(seq).encode()))      \n",
        "\n",
        "          total_tensor = torch.load(total_data)\n",
        "          map_tensor = torch.load(map_data)\n",
        "#           print('map tensor', map_tensor.size())\n",
        "          maps.append(map_tensor[:168, :].unsqueeze(0))\n",
        "          last_maps.append(map_tensor[168:, :].unsqueeze(0))\n",
        "          positions.append(total_tensor[3:5].unsqueeze(0))\n",
        "          actions.append(total_tensor[:2].unsqueeze(0))\n",
        "          rewards.append(total_tensor[2].unsqueeze(0))\n",
        "          last_positions.append(total_tensor[5:].unsqueeze(0))\n",
        "\n",
        "      map_pad = torch.cat(maps, 0).to(device='cuda').float()\n",
        "      pos_pad = torch.cat(positions, 0).to(device='cuda').float()\n",
        "      reward_pad = torch.cat(rewards, 0).to(device='cuda').float()\n",
        "      action_pad = torch.cat(actions, 0).to(device='cuda').float()\n",
        "      last_positions = torch.cat(last_positions, 0).to(device='cuda').float()\n",
        "      last_maps = torch.cat(last_maps, 0).to(device='cuda').float()\n",
        "\n",
        "      return map_pad, pos_pad, reward_pad, action_pad, last_positions, last_maps\n",
        "\n",
        "    def generate_episode(self, policy, add_noise=True, store=True, test=False, plot=False, do_print=False):\n",
        "      episode = []\n",
        "      self.env.plot = plot\n",
        "      map, position = self.env.reset()\n",
        "      position = position.astype(np.float64)\n",
        "      map = resize(map, (168, 168))\n",
        "      map = ((map - 127) / 255) * 2\n",
        "\n",
        "      position[0] = position[0]/ 640.0\n",
        "      position[1] = position[1] / 480.0\n",
        "      last_map = torch.from_numpy(map).float()\n",
        "      last_position = torch.from_numpy(position).float()\n",
        "      terminal = False\n",
        "\n",
        "      total_reward = 0\n",
        "      last_state = None\n",
        "      for i in range(self.max_episode_length):\n",
        "        if last_state is None:\n",
        "          action, last_state, lengths = policy(last_map.unsqueeze(0).unsqueeze(0).to(device='cuda'), last_position.unsqueeze(0).unsqueeze(0).to(device='cuda'), [1])\n",
        "        else:\n",
        "          action, last_state, lengths = policy(last_map.unsqueeze(0).unsqueeze(0).to(device='cuda'), last_position.unsqueeze(0).unsqueeze(0).to(device='cuda'), [1], last_state)\n",
        "      \n",
        "        if add_noise:\n",
        "          sampled = self.noise.sample()\n",
        "          #print('adding noise', sampled)\n",
        "          action = action.cpu().squeeze(0).squeeze(1) + sampled\n",
        "        else:\n",
        "          action = action.cpu().squeeze(0).squeeze(1)\n",
        "\n",
        "        action_np = action.detach().numpy().flatten()\n",
        "        if action_np[0] < 0:\n",
        "          action_np[0] = abs(action_np[0])\n",
        "        elif action_np[0] > 1:\n",
        "          action_np[0] = action_np[0] - 1\n",
        "\n",
        "        if action_np[1] < 0:\n",
        "          action_np[1] = abs(action_np[1])\n",
        "        elif action_np[1] > 1:\n",
        "          action_np[1] = action_np[1] - 1\n",
        "\n",
        "\n",
        "        if do_print:\n",
        "          print('action', action_np)\n",
        "\n",
        "    \n",
        "\n",
        "        (map, loc), reward, terminal, complete, new_loc, collision, all_map = self.env.step(action_np)\n",
        "        map = resize(map, (168, 168))\n",
        "        map = ((map - 127) / 255)\n",
        "        loc = loc.astype(np.float64)\n",
        "        loc[0] = loc[0] / 640.0\n",
        "        loc[1] = loc[1] / 480.0\n",
        "\n",
        "        map_tensor = torch.from_numpy(map).float()\n",
        "        position_tensor = torch.from_numpy(loc).float()\n",
        "        reward_tensor = torch.tensor(reward).float()\n",
        "        episode.append({'map': map_tensor.detach(), 'position': position_tensor.detach(), 'reward': reward_tensor.detach(), 'action': action.detach()})\n",
        "        last_map = map_tensor.to(device='cuda')\n",
        "        last_position = position_tensor.to(device='cuda')\n",
        "        total_reward += reward\n",
        "        if terminal:\n",
        "          break\n",
        "\n",
        "      if store:\n",
        "        sequences = self.episode_to_sequences(episode)\n",
        "        for sequence in sequences:\n",
        "          self.write_sequence(sequence, self.buffer_idx)\n",
        "          self.buffer_idx = (self.buffer_idx + 1) % len(self.buffer)\n",
        "          if self.buffer_idx == 0:\n",
        "            self.full_buffer = True\n",
        "\n",
        "      self.env.plot = False\n",
        "      return total_reward\n",
        "\n",
        "    def write_sequence(self, sequence, idx):\n",
        "      actions = sequence['actions']\n",
        "      rewards = sequence['rewards']\n",
        "      maps = sequence['maps']\n",
        "      positions = sequence['positions']\n",
        "\n",
        "      len = sequence['len']\n",
        "      total_tensor = torch.cat((actions, rewards.unsqueeze(1).unsqueeze(1), positions.unsqueeze(1)), 2)\n",
        "      with self.db.begin(write=True) as txn:\n",
        "        total_bytes = BytesIO()\n",
        "        maps_bytes = BytesIO()\n",
        "\n",
        "        torch.save(total_tensor, total_bytes)\n",
        "        torch.save(maps, maps_bytes)\n",
        "        \n",
        "        txn.put('{}_total'.format(idx).encode(), total_bytes.getvalue())\n",
        "        txn.put('{}_maps'.format(idx).encode(), maps_bytes.getvalue())\n",
        "        txn.put('{}_len'.format(idx).encode(), str(len).encode())\n",
        "\n",
        "    def read_sequences(self, sequences):\n",
        "        map_sequences = []\n",
        "        position_sequences = []\n",
        "        reward_sequences = []\n",
        "        action_sequences = []\n",
        "        seq_lens = []\n",
        "\n",
        "        for seq in sequences:\n",
        "            with self.db.begin() as txn:\n",
        "                total_data = BytesIO(txn.get('{}_total'.format(seq).encode()))\n",
        "                map_data = BytesIO(txn.get('{}_maps'.format(seq).encode()))\n",
        "                length = txn.get('{}_len'.format(seq).encode())\n",
        "\n",
        "\n",
        "                total_tensor = torch.load(total_data)\n",
        "                map_tensor = torch.load(map_data)\n",
        "                map_sequences.append(map_tensor)\n",
        "                position_sequences.append(total_tensor[:, :, 3:])\n",
        "                action_sequences.append(total_tensor[:, :, :2])\n",
        "                reward_sequences.append(total_tensor[:, :, 2])\n",
        "                seq_lens.append(int(length))\n",
        "\n",
        "        map_pad = pad_sequence(map_sequences).to(device='cuda').float()\n",
        "        pos_pad = pad_sequence(position_sequences).to(device='cuda').float()\n",
        "        reward_pad = pad_sequence(reward_sequences).to(device='cuda').float()\n",
        "        action_pad = pad_sequence(action_sequences).to(device='cuda').float()\n",
        "        seqs = seq_lens\n",
        "\n",
        "\n",
        "\n",
        "        return map_pad, pos_pad, reward_pad, action_pad, seqs\n",
        "    \n",
        "    def episode_to_sequences(self, episode):\n",
        "      sequences = []\n",
        "      last_idx = 0\n",
        "      for i in np.arange(self.sequence_length, len(episode), self.sequence_length):\n",
        "        window = episode[last_idx:i]\n",
        "        map_tensor = torch.cat([torch.unsqueeze(data['map'], 0) for data in window], 0)\n",
        "        position_tensor = torch.cat([torch.unsqueeze(data['position'], 0) for data in window], 0)\n",
        "        reward_tensor = torch.cat([torch.unsqueeze(data['reward'], 0) for data in window], 0)\n",
        "        action_tensor = torch.cat([torch.unsqueeze(data['action'], 0) for data in window], 0)\n",
        "        sequences.append({'maps':map_tensor, 'positions': position_tensor, 'rewards': reward_tensor, 'actions':action_tensor, 'len':len(window)})\n",
        "        last_idx = i\n",
        "\n",
        "      window = episode[last_idx:]\n",
        "      map_tensor = torch.cat([torch.unsqueeze(data['map'], 0) for data in window], 0)\n",
        "      position_tensor = torch.cat([torch.unsqueeze(data['position'], 0) for data in window], 0)\n",
        "      reward_tensor = torch.cat([torch.unsqueeze(data['reward'], 0) for data in window], 0)\n",
        "      action_tensor = torch.cat([torch.unsqueeze(data['action'], 0) for data in window], 0)\n",
        "      sequences.append({'maps':map_tensor, 'positions': position_tensor, 'rewards': reward_tensor, 'actions':action_tensor, 'len':len(window)})\n",
        "      return sequences\n",
        "    \n",
        "\n",
        "    #TODO: Complete the function\n",
        "    def buffer_sample(self, N):\n",
        "        \"\"\"\n",
        "        A function to sample N points from the buffer\n",
        "        param: N : Number of samples to obtain from the buffer\n",
        "        \"\"\"\n",
        "        if self.full_buffer:\n",
        "          samples = np.random.permutation(range(self.buffer_length))\n",
        "        else:\n",
        "          samples = np.random.permutation(range(self.buffer_idx))\n",
        "\n",
        "        samples = samples[:N]\n",
        "        return self.read_sequences(samples)\n",
        "\n",
        "    def batchify(self, samples):\n",
        "      \n",
        "      map_sequences = []\n",
        "      position_sequences = []\n",
        "      reward_sequences = []\n",
        "      action_sequences = []\n",
        "      seq_lens = []\n",
        "\n",
        "      for sequence in samples:\n",
        "\n",
        "        map_sequences.append(sequence['maps'])\n",
        "        position_sequences.append(sequence['positions'])\n",
        "        reward_sequences.append(sequence['rewards'])\n",
        "        action_sequences.append(sequence['actions'])\n",
        "        seq_lens.append(sequence['len'])\n",
        "\n",
        "      map_pad = pad_sequence(map_sequences).to(device='cuda').float()\n",
        "      pos_pad = pad_sequence(position_sequences).to(device='cuda').float()\n",
        "      reward_pad = pad_sequence(reward_sequences).to(device='cuda').float()\n",
        "      action_pad = pad_sequence(action_sequences).to(device='cuda').float()\n",
        "      seqs = seq_lens\n",
        "\n",
        "      return map_pad, pos_pad, reward_pad, action_pad, seqs\n",
        "\n",
        "      \n"
      ],
      "execution_count": 29,
      "outputs": [
        {
          "output_type": "stream",
          "text": [
            "Drive already mounted at /content/drive; to attempt to forcibly remount, call drive.mount(\"/content/drive\", force_remount=True).\n"
          ],
          "name": "stdout"
        }
      ]
    },
    {
      "cell_type": "code",
      "metadata": {
        "id": "xFMjDGz1N958"
      },
      "source": [
        "# TODO: Implement a DDPG class\n",
        "def plot_grad_flow(named_parameters):\n",
        "    ave_grads = []\n",
        "    layers = []\n",
        "    for n, p in named_parameters:\n",
        "        if(p.requires_grad) and (\"bias\" not in n):\n",
        "            layers.append(n)\n",
        "            ave_grads.append(p.grad.abs().mean())\n",
        "    plt.plot(ave_grads, alpha=0.3, color=\"b\")\n",
        "    plt.hlines(0, 0, len(ave_grads)+1, linewidth=1, color=\"k\" )\n",
        "    plt.xticks(range(0,len(ave_grads), 1), layers, rotation=\"vertical\")\n",
        "    plt.xlim(xmin=0, xmax=len(ave_grads))\n",
        "    plt.xlabel(\"Layers\")\n",
        "    plt.ylabel(\"average gradient\")\n",
        "    plt.title(\"Gradient flow\")\n",
        "    plt.grid(True)\n",
        "    plt.show()\n",
        "\n",
        "\n",
        "class DDPG():\n",
        "    def __init__(\n",
        "            self,\n",
        "            env,\n",
        "            conv_dims,\n",
        "            state_dim,\n",
        "            linear_dims,\n",
        "            actor_linear_dims,\n",
        "            sequence_length,\n",
        "            replay,\n",
        "            critic_lr=3e-4,\n",
        "            actor_lr=3e-4,\n",
        "            gamma=0.99,\n",
        "            batch_size=100,\n",
        "            seed=1000\n",
        "    ):\n",
        "        \"\"\"\n",
        "        param: env: An gym environment\n",
        "        param: action_dim: Size of action space\n",
        "        param: state_dim: Size of state space\n",
        "        param: critic_lr: Learning rate of the critic\n",
        "        param: actor_lr: Learning rate of the actor\n",
        "        param: gamma: The discount factor\n",
        "        param: batch_size: The batch size for training\n",
        "        \"\"\"\n",
        "        np.random.seed(seed)\n",
        "        torch.manual_seed(seed)\n",
        "        action_dim = 2\n",
        "        self.gamma = gamma\n",
        "        self.batch_size = batch_size\n",
        "        self.sequence_length = sequence_length\n",
        "        self.env = env\n",
        "        self.state_dim = state_dim\n",
        "        self.actor = FCActor(conv_dims, actor_linear_dims).float().to(device='cuda')\n",
        "        print(self.actor)\n",
        "\n",
        "        # TODO: Create a actor and actor_target\n",
        "        self.actor_target = copy.deepcopy(self.actor)\n",
        "\n",
        "        # TODO: Make sure that both networks have the same initial weights\n",
        "\n",
        "        # TODO: Create a critic and critic_target object\n",
        "        self.critic = CNNCriticNoSeq(conv_dims, linear_dims).float().to(device='cuda')\n",
        "        print(self.critic)\n",
        "        self.critic_target = copy.deepcopy(self.critic)\n",
        "        # TODO: Make sure that both networks have the same initial weights\n",
        "\n",
        "        # TODO: Define the optimizer for the actor\n",
        "        self.optimizer_actor = optim.Adam(self.actor.parameters(), actor_lr)\n",
        "        # TODO: Define the optimizer for the critic\n",
        "        self.optimizer_critic = optim.Adam(self.critic.parameters(), critic_lr)\n",
        "\n",
        "        # TODO: define a replay buffer\n",
        "        #buffer_size, init_episodes, max_episode_length, state_dim, action_dim, env, env_width, env_height\n",
        "        self.replay = replay\n",
        "\n",
        "    # TODO: Complete the function\n",
        "    def update_target_networks(self):\n",
        "        \"\"\"\n",
        "        A function to update the target networks\n",
        "        \"\"\"\n",
        "        weighSync(self.actor_target, self.actor)\n",
        "        weighSync(self.critic_target, self.critic)\n",
        "\n",
        "    # TODO: Complete the function\n",
        "    def update_network(self, y_i, maps, positions, actions, last_maps, last_positions, i):\n",
        "        \"\"\"\n",
        "        A function to update the function just once\n",
        "        \"\"\"\n",
        "\n",
        "        qs = self.critic(last_maps, last_positions, actions)\n",
        "        #print('critic loss sizes')\n",
        "        #print(y_i.size())\n",
        "        #print(qs.size())\n",
        "        #should be (seq_len, batch, 1)\n",
        "        #should be (seq_len, batch, 1)\n",
        "        criterion = nn.MSELoss()\n",
        "        critic_loss = criterion(qs, y_i)\n",
        "        #print('critic loss', critic_loss)\n",
        "        critic_loss.backward()\n",
        "        if i % 500 == 0:\n",
        "          print(\"CRITIC\")\n",
        "          plot_grad_flow(self.critic.named_parameters())\n",
        "\n",
        "        self.optimizer_critic.step()\n",
        "\n",
        "        #last_positions = (last_positions - last_positions.mean(0)) / last_positions.std(0)\n",
        "\n",
        "        new_act = self.actor(last_maps, last_positions)\n",
        "        new_qs = self.critic(last_maps, last_positions, new_act)\n",
        "        actor_loss = new_qs.mean()\n",
        "        #print('actor_loss', actor_loss)\n",
        "        (-actor_loss).backward()\n",
        "        \n",
        "        if i % 500 == 0:\n",
        "          print(\"ACTOR\")\n",
        "          plot_grad_flow(self.actor.named_parameters())\n",
        "        self.optimizer_actor.step()\n",
        "\n",
        "  \n",
        "    # TODO: Complete the function\n",
        "    def train(self, num_steps):\n",
        "        \"\"\"\n",
        "        Train the policy for the given number of iterations\n",
        "        :param num_steps:The number of steps to train the policy for\n",
        "        \"\"\"\n",
        "        self.critic_criterion = MSELoss()\n",
        "        num_episodes = 0\n",
        "        i = 0\n",
        "        total_reward = 0\n",
        "        total_steps = 0\n",
        "        episode_reward = 0\n",
        "        steps_list = []\n",
        "        rewards = []\n",
        "        start = time.time()\n",
        "        total_target_time = 0\n",
        "        total_backprop_time = 0\n",
        "        total_gen_episode_time = 0\n",
        "        total_test_time = 0\n",
        "        total_dataload_time = 0\n",
        "\n",
        "        \n",
        "        map, position = self.replay.env.reset()\n",
        "        map = resize(map, (168, 168))\n",
        "        map = map / 255\n",
        "        position = position.astype(np.float64)\n",
        "        position[0] = position[0] / 480\n",
        "        position[1] = position[1] / 640\n",
        "        action = {'map':torch.from_numpy(map).float(), 'position':torch.from_numpy(position).float()}\n",
        "        \n",
        "        while i < num_steps:\n",
        "            self.optimizer_critic.zero_grad()\n",
        "            self.optimizer_actor.zero_grad()\n",
        "            gen_start = time.time()\n",
        "            action, terminal = self.replay.generate_step(ActorPolicy(self.actor), action)\n",
        "            total_gen_episode_time += time.time() - gen_start\n",
        "            total_reward += action['reward'].item()\n",
        "            if i%100==0:\n",
        "                print('step {}'.format(i))\n",
        "                save_models(self.actor, self.critic, self.actor_target, self.critic_target, i)\n",
        "                #print(total_reward)\n",
        "                #print(action)\n",
        "            if terminal:\n",
        "                total_reward = 0\n",
        "                map, position = self.env.reset()\n",
        "                map = resize(map, (168, 168))\n",
        "                map = map / 255\n",
        "                position = position.astype(np.float64)\n",
        "                position[0] = position[0] / 480\n",
        "                position[1] = position[1] / 640\n",
        "                action = {'map':torch.from_numpy(map).float(), 'position':torch.from_numpy(position).float()}\n",
        "\n",
        "\n",
        "            #maps.size() -> (seq_len, batch_size, 1, 224, 224)\n",
        "            #positons.size() -> (seq_len, batch_size, 2)\n",
        "            #rewards.size() -> (seq_len, batch_size, 1)\n",
        "            # actions -> (seq_len, batch_size, 2)\n",
        "            dataload_time = time.time()\n",
        "            maps, positions, rewards, actions, last_positions, last_maps = self.replay.sample_transitions(self.batch_size)\n",
        "            maps = maps.unsqueeze(1)\n",
        "            last_maps = last_maps.unsqueeze(1)\n",
        "\n",
        "            total_dataload_time += time.time() - dataload_time\n",
        "\n",
        "            target_start = time.time()\n",
        "            with torch.no_grad():\n",
        "                target_action = self.actor_target(last_maps, last_positions)\n",
        "                #print('target action', target_action.size())\n",
        "                #Should be (seq_len, batch_size, 2)\n",
        "                #Should be (seq_len, batch_size, 1)\n",
        "                crit = self.critic_target(maps, positions, target_action)\n",
        "                #print('rewards', rewards.size())\n",
        "                #print('crit', crit.size())\n",
        "                ys = rewards.unsqueeze(1) + self.gamma * crit\n",
        "\n",
        "            total_target_time += time.time() - target_start\n",
        "            update_start = time.time()\n",
        "            self.update_network(ys, maps, positions, actions, last_maps, last_positions, i)\n",
        "\n",
        "            self.update_target_networks()\n",
        "            total_backprop_time += time.time() - update_start\n",
        "            i += 1\n",
        "            if i % 500 == 0:\n",
        "             print('step {}'.format(i))\n",
        "             print('avg iter time {}'.format((time.time() - start) / i))\n",
        "\n",
        "             reward = 0\n",
        "             start_test = time.time()\n",
        "             for j in range(5):\n",
        "               test_map, test_position = self.replay.test_env.reset()\n",
        "               test_map = resize(test_map, (168, 168))\n",
        "               test_map = test_map / 255\n",
        "               test_position = test_position.astype(np.float64)\n",
        "               test_position[0] = test_position[0] / 480\n",
        "               test_position[1] = test_position[1] / 640\n",
        "               test_action = {'map':torch.from_numpy(test_map).float(), 'position':torch.from_numpy(test_position).float()}\n",
        "               x = 0\n",
        "               total_reward = 0\n",
        "               while x < 300:\n",
        "                 test_action, test_terminal = self.replay.generate_step(ActorPolicy(self.actor), test_action, False, False, True)\n",
        "                 print('action', test_action)\n",
        "                 print('terminal', test_terminal)\n",
        "                 total_reward += test_action['reward'].item()\n",
        "                 if test_terminal:\n",
        "                   test_map, test_position = self.replay.test_env.reset()\n",
        "\n",
        "                   test_map = resize(test_map, (168, 168))\n",
        "                   test_map = test_map / 255\n",
        "                   test_position = test_position.astype(np.float64)\n",
        "                   test_position[0] = test_position[0] / 480\n",
        "                   test_position[1] = test_position[1] / 640\n",
        "                   test_action = {'map':torch.from_numpy(test_map).float(), 'position':torch.from_numpy(test_position).float()}\n",
        "                   break\n",
        "                 x += 1\n",
        "\n",
        "#             print('test reward', total_reward)\n",
        "#             total_test_time = time.time() - start\n",
        "#             print('avg test time', total_test_time / 5)\n",
        "#             print('avg target time', total_target_time / i)\n",
        "#             print('avg backprop time', total_backprop_time / i)\n",
        "#             print('avg data load time', total_dataload_time / i)\n",
        "#             print('avg gen episode time', total_gen_episode_time / i)\n",
        "            #  test_done = False\n",
        "            #  episode_reward = 0\n",
        "            #  the_steps = 0\n",
        "            #  s = test_env.reset()\n",
        "            #  while not test_done:\n",
        "            #    total_steps += 1\n",
        "            #    the_steps += 1\n",
        "            #    action = self.actor(torch.from_numpy(s).float().to(device='cuda')).detach().squeeze().cpu().numpy()\n",
        "            #    n_state, r, test_done, _ = test_env.step(action)\n",
        "            #    s = n_state\n",
        "            #    episode_reward += r\n",
        "\n",
        "            #  rewards.append(episode_reward)\n",
        "            #  steps_list.append(the_steps)\n",
        "            #  print('Episode reward')\n",
        "            #  print(episode_reward)\n",
        "\n",
        "        return rewards, steps_list"
      ],
      "execution_count": 30,
      "outputs": []
    },
    {
      "cell_type": "code",
      "metadata": {
        "id": "E0LpNCmQoDTv"
      },
      "source": [
        "import random\n",
        "from copy import deepcopy\n",
        "class GuidedExplorationPolicy:\n",
        "\n",
        "  def __init__(self, prob_guided, model, action_space, noise_var):\n",
        "    self.prob_guided = prob_guided\n",
        "    self.model = model\n",
        "    self.action_space = action_space\n",
        "    #self.noise = torch.MultivariateGaussian(torch.zeros(2), torch.diag([noise_var,noise_var]))\n",
        "\n",
        "  def __call__(self, map, location, env):\n",
        "    p = random.random()\n",
        "    actions = []\n",
        "    if p < self.prob_guided:\n",
        "      rescue_map, rescue_path = env.rescuer()\n",
        "      location = location.cpu().numpy()\n",
        "      location[0] *= 640\n",
        "      location[1] *= 480\n",
        "      last_point = location\n",
        "      point = 0\n",
        "      count  = 0\n",
        "      while point < rescue_path.shape[1]:\n",
        "        count += 1\n",
        "        next_point = rescue_path[[1, 0], point].astype(np.float64)\n",
        "        dist = np.linalg.norm(next_point - location)\n",
        "        _, coll = env.collision_check(location.astype(np.int64), next_point.astype(np.int64), env.map_size, env.global_map) \n",
        "\n",
        "        if coll or dist > self.action_space.max_distance:\n",
        "          diff = (last_point - location).astype(np.float64)\n",
        "          angle = np.arctan2(diff[0], diff[1])\n",
        "          dist = np.linalg.norm(diff)\n",
        "          angle = angle / (2 * np.pi)\n",
        "          dist = (dist - self.action_space.min_travel) / (self.action_space.max_distance - self.action_space.min_travel)\n",
        "          location = next_point\n",
        "          last_point = next_point\n",
        "          actions.append(torch.from_numpy(np.array([angle, dist])).to(device='cuda').float())\n",
        "        else:\n",
        "          point += 1\n",
        "          last_point = next_point\n",
        "\n",
        "      diff = (last_point - location).astype(np.float64)\n",
        "      angle = np.arctan2(diff[1], diff[0])\n",
        "      dist = np.linalg.norm(diff)\n",
        "      angle = angle / (2 * np.pi)\n",
        "      dist = (dist - self.action_space.min_travel) / (self.action_space.max_distance - self.action_space.min_travel)\n",
        "      location = next_point\n",
        "      last_point = next_point\n",
        "      actions.append(torch.from_numpy(np.array([angle, dist])).to(device='cuda').float())\n",
        "    else:\n",
        "      map = map.to(device='cuda').float().unsqueeze(0).unsqueeze(1)\n",
        "      position = position.to(device='cuda').float().unsqueeze(0)\n",
        "\n",
        "      result = self.model(map, position)\n",
        "\n",
        "    return actions"
      ],
      "execution_count": 83,
      "outputs": []
    },
    {
      "cell_type": "code",
      "metadata": {
        "id": "9HHS_er5nV5I"
      },
      "source": [
        "class ClippedLinearFrontierDistanceReward:\n",
        "    def __init__(self, reward_scale):\n",
        "        self.reward_scale = reward_scale\n",
        "        self.paper_reward = PaperRewardFunction()\n",
        "\n",
        "    def frontiers(self, op_map, map_size, points):\n",
        "        y_len = map_size[0]\n",
        "        x_len = map_size[1]\n",
        "        mapping = op_map.copy()\n",
        "        # 0-1 unknown area map\n",
        "        mapping = (mapping == 127) * 1\n",
        "        mapping = np.lib.pad(mapping, ((1, 1), (1, 1)),\n",
        "                             'constant',\n",
        "                             constant_values=0)\n",
        "        fro_map = mapping[2:][:, 1:x_len + 1] + mapping[:y_len][:, 1:x_len + 1] + mapping[1:y_len + 1][:, 2:] + \\\n",
        "                  mapping[1:y_len + 1][:, :x_len] + mapping[:y_len][:, 2:] + mapping[2:][:, :x_len] + mapping[2:][:,\n",
        "                                                                                                      2:] + \\\n",
        "                  mapping[:y_len][:, :x_len]\n",
        "\n",
        "        ind_free = np.where(op_map.ravel(order='F') == 255)[0]\n",
        "        ind_fron_1 = np.where(1 < fro_map.ravel(order='F'))[0]\n",
        "        ind_fron_2 = np.where(fro_map.ravel(order='F') < 8)[0]\n",
        "        ind_fron = np.intersect1d(ind_fron_1, ind_fron_2)\n",
        "        ind_to = np.intersect1d(ind_free, ind_fron)\n",
        "        f = points[ind_to]\n",
        "        f = f.astype(int)\n",
        "        return f\n",
        "\n",
        "    def map_points(self, map_glo):\n",
        "        map_x = map_glo.shape[1]\n",
        "        map_y = map_glo.shape[0]\n",
        "        x = np.linspace(0, map_x - 1, map_x)\n",
        "        y = np.linspace(0, map_y - 1, map_y)\n",
        "        t1, t2 = np.meshgrid(x, y)\n",
        "        points = np.vstack([t1.T.ravel(), t2.T.ravel()]).T\n",
        "        return points\n",
        "\n",
        "    def astar_path(self, weights, start, goal, allow_diagonal=True):\n",
        "        temp_start = [start[1], start[0]]\n",
        "        temp_goal = [goal[1], goal[0]]\n",
        "        temp_weight = (weights < 150) * 254 + 1\n",
        "        # For the heuristic to be valid, each move must cost at least 1.\n",
        "        if temp_weight.min(axis=None) < 1.:\n",
        "            raise ValueError(\"Minimum cost to move must be 1, but got %f\" % (\n",
        "                temp_weight.min(axis=None)))\n",
        "        # Ensure start is within bounds.\n",
        "        if (temp_start[0] < 0 or temp_start[0] >= temp_weight.shape[0] or\n",
        "                temp_start[1] < 0 or temp_start[1] >= temp_weight.shape[1]):\n",
        "            raise ValueError(\"Start lies outside grid.\")\n",
        "        # Ensure goal is within bounds.\n",
        "        if (temp_goal[0] < 0 or temp_goal[0] >= temp_weight.shape[0] or\n",
        "                temp_goal[1] < 0 or temp_goal[1] >= temp_weight.shape[1]):\n",
        "            raise ValueError(\"Goal of lies outside grid.\")\n",
        "\n",
        "        height, width = temp_weight.shape\n",
        "        start_idx = np.ravel_multi_index(temp_start, (height, width))\n",
        "        goal_idx = np.ravel_multi_index(temp_goal, (height, width))\n",
        "\n",
        "        path = astar(\n",
        "            temp_weight.flatten(), height, width, start_idx, goal_idx, allow_diagonal,\n",
        "        )\n",
        "        return path\n",
        "\n",
        "    def get_reward(self, robot_pos, old_op_map, op_map, coll_index):\n",
        "        paper_reward = self.paper_reward.get_reward(robot_pos, old_op_map,\n",
        "                                                    op_map, coll_index)\n",
        "        \n",
        "        #If there was a collision return the collision reward\n",
        "        if coll_index:\n",
        "            print('collided??')\n",
        "            return paper_reward\n",
        "\n",
        "        frontiers = np.array(\n",
        "            self.frontiers(op_map, op_map.shape, self.map_points(op_map)))\n",
        "\n",
        "        for frontier in range(frontiers.shape[0]):\n",
        "          frontier = frontiers[frontier, :]\n",
        "          path = self.astar_path(op_map, robot_pos, frontier)\n",
        "          dist = 0\n",
        "          last_point = robot_pos\n",
        "          for point in range(1, path.shape[1]):\n",
        "            point = path[:, point]\n",
        "            dist += np.linalg.norm(point - last_point)\n",
        "            paper_reward += np.clip(-self.reward_scale * dist, 0, 1)\n",
        "        \n",
        "        return paper_reward"
      ],
      "execution_count": 84,
      "outputs": []
    },
    {
      "cell_type": "code",
      "metadata": {
        "colab": {
          "base_uri": "https://localhost:8080/",
          "height": 1000
        },
        "id": "ZDOq9xyBtqwd",
        "outputId": "d5b34b47-4540-4398-f501-39db6a11f87b"
      },
      "source": [
        "reward_func = ClippedLinearFrontierDistanceReward(1 / 320)\n",
        "action_space = PolarActionSpace(0, 120)\n",
        "\n",
        "\n",
        "test2 = Robot(0, True, True, 'DRL_robot_exploration/DungeonMaps',action_space,reward_func, False)\n",
        "test1 = Robot(0, True, True, 'DRL_robot_exploration/DungeonMaps',action_space,reward_func, False)\n",
        "\n",
        "test_replay = Replay(100, 10, 300, 4, 2, test1, test2, 640, 480)\n"
      ],
      "execution_count": 85,
      "outputs": [
        {
          "output_type": "display_data",
          "data": {
            "image/png": "[encoded data removed]",
            "text/plain": [
              "<Figure size 432x288 with 1 Axes>"
            ]
          },
          "metadata": {
            "tags": [],
            "needs_background": "light"
          }
        },
        {
          "output_type": "display_data",
          "data": {
            "image/png": "[encoded data removed]",
            "text/plain": [
              "<Figure size 432x288 with 1 Axes>"
            ]
          },
          "metadata": {
            "tags": [],
            "needs_background": "light"
          }
        },
        {
          "output_type": "display_data",
          "data": {
            "image/png": "[encoded data removed]",
            "text/plain": [
              "<Figure size 432x288 with 1 Axes>"
            ]
          },
          "metadata": {
            "tags": [],
            "needs_background": "light"
          }
        },
        {
          "output_type": "display_data",
          "data": {
            "image/png": "[encoded data removed]",
            "text/plain": [
              "<Figure size 432x288 with 1 Axes>"
            ]
          },
          "metadata": {
            "tags": [],
            "needs_background": "light"
          }
        },
        {
          "output_type": "display_data",
          "data": {
            "image/png": "[encoded data removed]",
            "text/plain": [
              "<Figure size 432x288 with 1 Axes>"
            ]
          },
          "metadata": {
            "tags": [],
            "needs_background": "light"
          }
        },
        {
          "output_type": "display_data",
          "data": {
            "image/png": "[encoded data removed]",
            "text/plain": [
              "<Figure size 432x288 with 1 Axes>"
            ]
          },
          "metadata": {
            "tags": [],
            "needs_background": "light"
          }
        },
        {
          "output_type": "display_data",
          "data": {
            "image/png": "[encoded data removed]",
            "text/plain": [
              "<Figure size 432x288 with 1 Axes>"
            ]
          },
          "metadata": {
            "tags": [],
            "needs_background": "light"
          }
        },
        {
          "output_type": "stream",
          "text": [
            "collided??\n"
          ],
          "name": "stdout"
        },
        {
          "output_type": "display_data",
          "data": {
            "image/png": "[encoded data removed]",
            "text/plain": [
              "<Figure size 432x288 with 1 Axes>"
            ]
          },
          "metadata": {
            "tags": [],
            "needs_background": "light"
          }
        },
        {
          "output_type": "display_data",
          "data": {
            "image/png": "[encoded data removed]",
            "text/plain": [
              "<Figure size 432x288 with 1 Axes>"
            ]
          },
          "metadata": {
            "tags": [],
            "needs_background": "light"
          }
        },
        {
          "output_type": "display_data",
          "data": {
            "image/png": "[encoded data removed]",
            "text/plain": [
              "<Figure size 432x288 with 1 Axes>"
            ]
          },
          "metadata": {
            "tags": [],
            "needs_background": "light"
          }
        },
        {
          "output_type": "display_data",
          "data": {
            "image/png": "[encoded data removed]",
            "text/plain": [
              "<Figure size 432x288 with 1 Axes>"
            ]
          },
          "metadata": {
            "tags": [],
            "needs_background": "light"
          }
        },
        {
          "output_type": "display_data",
          "data": {
            "image/png": "[encoded data removed]",
            "text/plain": [
              "<Figure size 432x288 with 1 Axes>"
            ]
          },
          "metadata": {
            "tags": [],
            "needs_background": "light"
          }
        },
        {
          "output_type": "stream",
          "text": [
            "collided??\n"
          ],
          "name": "stdout"
        },
        {
          "output_type": "display_data",
          "data": {
            "image/png": "[encoded data removed]",
            "text/plain": [
              "<Figure size 432x288 with 1 Axes>"
            ]
          },
          "metadata": {
            "tags": [],
            "needs_background": "light"
          }
        },
        {
          "output_type": "display_data",
          "data": {
            "image/png": "[encoded data removed]",
            "text/plain": [
              "<Figure size 432x288 with 1 Axes>"
            ]
          },
          "metadata": {
            "tags": [],
            "needs_background": "light"
          }
        },
        {
          "output_type": "display_data",
          "data": {
            "image/png": "[encoded data removed]",
            "text/plain": [
              "<Figure size 432x288 with 1 Axes>"
            ]
          },
          "metadata": {
            "tags": [],
            "needs_background": "light"
          }
        },
        {
          "output_type": "stream",
          "text": [
            "collided??\n"
          ],
          "name": "stdout"
        },
        {
          "output_type": "display_data",
          "data": {
            "image/png": "[encoded data removed]",
            "text/plain": [
              "<Figure size 432x288 with 1 Axes>"
            ]
          },
          "metadata": {
            "tags": [],
            "needs_background": "light"
          }
        },
        {
          "output_type": "display_data",
          "data": {
            "image/png": "[encoded data removed]",
            "text/plain": [
              "<Figure size 432x288 with 1 Axes>"
            ]
          },
          "metadata": {
            "tags": [],
            "needs_background": "light"
          }
        },
        {
          "output_type": "display_data",
          "data": {
            "image/png": "[encoded data removed]",
            "text/plain": [
              "<Figure size 432x288 with 1 Axes>"
            ]
          },
          "metadata": {
            "tags": [],
            "needs_background": "light"
          }
        }
      ]
    },
    {
      "cell_type": "code",
      "metadata": {
        "colab": {
          "base_uri": "https://localhost:8080/",
          "height": 284
        },
        "id": "PxzcF3LEJt5x",
        "outputId": "23d30f1f-b149-49ae-84dc-8da5405638ef"
      },
      "source": [
        "test = np.zeros((480, 640))\n",
        "test[0:81, 0:81] = 255\n",
        "#shift = \n",
        "padded = np.pad(test, ((480, 640), (480, 640)))\n",
        "shifted = np.roll(test, (240-40, 320-40), [0,1])\n",
        "plt.imshow(shifted)"
      ],
      "execution_count": 86,
      "outputs": [
        {
          "output_type": "execute_result",
          "data": {
            "text/plain": [
              "<matplotlib.image.AxesImage at 0x7fc8626c4b00>"
            ]
          },
          "metadata": {
            "tags": []
          },
          "execution_count": 86
        },
        {
          "output_type": "display_data",
          "data": {
            "image/png": "[encoded data removed]",
            "text/plain": [
              "<Figure size 432x288 with 1 Axes>"
            ]
          },
          "metadata": {
            "tags": [],
            "needs_background": "light"
          }
        }
      ]
    },
    {
      "cell_type": "code",
      "metadata": {
        "colab": {
          "base_uri": "https://localhost:8080/",
          "height": 536
        },
        "id": "hXUPIceF8ru0",
        "outputId": "bb2e713f-a020-4d50-de8c-1eac844fa8e6"
      },
      "source": [
        "map, position, reward, action, last_position, last_map = test_replay.sample_transitions(1)\n",
        "img1 = last_map.cpu().squeeze(0).numpy()\n",
        "img2 = map.cpu().squeeze(0).numpy()\n",
        "print(action)\n",
        "plt.imshow(img1, cmap='gray')\n",
        "plt.show()\n",
        "plt.clf()\n",
        "plt.imshow(img2, cmap='gray')\n",
        "plt.show()"
      ],
      "execution_count": 87,
      "outputs": [
        {
          "output_type": "stream",
          "text": [
            "tensor([[0.6553, 0.3668]], device='cuda:0')\n"
          ],
          "name": "stdout"
        },
        {
          "output_type": "display_data",
          "data": {
            "image/png": "[encoded data removed]",
            "text/plain": [
              "<Figure size 432x288 with 1 Axes>"
            ]
          },
          "metadata": {
            "tags": [],
            "needs_background": "light"
          }
        },
        {
          "output_type": "display_data",
          "data": {
            "image/png": "[encoded data removed]",
            "text/plain": [
              "<Figure size 432x288 with 1 Axes>"
            ]
          },
          "metadata": {
            "tags": [],
            "needs_background": "light"
          }
        }
      ]
    },
    {
      "cell_type": "code",
      "metadata": {
        "colab": {
          "base_uri": "https://localhost:8080/",
          "height": 1000
        },
        "id": "p4d1RptE8oDs",
        "outputId": "8ca1c395-e8c0-4f03-ce1f-5edee3b24a35"
      },
      "source": [
        "test_policy = GuidedExplorationPolicy(1, None, action_space, 0.2)\n",
        "\n",
        "reward = 0\n",
        "\n",
        "test_map, test_position = test_replay.test_env.reset()\n",
        "test_map = resize(test_map, (168, 168))\n",
        "test_map = test_map / 255\n",
        "test_position = test_position.astype(np.float64)\n",
        "test_position[0] = test_position[0] / 480\n",
        "test_position[1] = test_position[1] / 640\n",
        "test_action = {'map':torch.from_numpy(test_map).float(), 'position':torch.from_numpy(test_position).float()}\n",
        "x = 0\n",
        "\n",
        "total_reward = 0\n",
        "while x < 300:\n",
        "\n",
        "    frontires = test_replay.test_env.frontier(test_replay.test_env.op_map, test_replay.test_env.map_size, test_replay.test_env.t)\n",
        "    test_action, test_terminal = test_replay.generate_step(test_policy, test_action, add_noise=False, store=False, test=True)\n",
        "    print('test action', test_action)\n",
        "    print('terminal', test_terminal)\n",
        "    print('reward', test_action['reward'])\n",
        "    total_reward += test_action['reward'].item()\n",
        "    test_map = test_action['map']\n",
        "    plt.imshow(test_replay.test_env.op_map)\n",
        "    plt.scatter(frontires[1, :], frontires[0, :])\n",
        " \n",
        "    plt.show()\n",
        "    print('showing frontier')\n",
        "    test_map = resize(test_map, (168, 168))\n",
        "    test_map = test_map / 255\n",
        "    test_position = test_position.astype(np.float64)\n",
        "    test_position[0] = test_position[0] / 480\n",
        "    test_position[1] = test_position[1] / 640\n",
        "    test_action = {'map':torch.from_numpy(test_map).float(), 'position':torch.from_numpy(test_position).float()}\n",
        "    if test_terminal:\n",
        "        break\n",
        "    x += 1"
      ],
      "execution_count": 89,
      "outputs": [
        {
          "output_type": "display_data",
          "data": {
            "image/png": "[encoded data removed]",
            "text/plain": [
              "<Figure size 432x288 with 1 Axes>"
            ]
          },
          "metadata": {
            "tags": [],
            "needs_background": "light"
          }
        },
        {
          "output_type": "display_data",
          "data": {
            "image/png": "[encoded data removed]",
            "text/plain": [
              "<Figure size 432x288 with 1 Axes>"
            ]
          },
          "metadata": {
            "tags": [],
            "needs_background": "light"
          }
        },
        {
          "output_type": "stream",
          "text": [
            "collided??\n"
          ],
          "name": "stdout"
        },
        {
          "output_type": "display_data",
          "data": {
            "image/png": "[encoded data removed]",
            "text/plain": [
              "<Figure size 432x288 with 1 Axes>"
            ]
          },
          "metadata": {
            "tags": [],
            "needs_background": "light"
          }
        },
        {
          "output_type": "stream",
          "text": [
            "test action {'last_map': tensor([[0.4980, 0.4980, 0.4980,  ..., 0.4980, 0.4980, 0.4980],\n",
            "        [0.4980, 0.4980, 0.4980,  ..., 0.4980, 0.4980, 0.4980],\n",
            "        [0.4980, 0.4980, 0.4980,  ..., 0.4980, 0.4980, 0.4980],\n",
            "        ...,\n",
            "        [0.4980, 0.4980, 0.4980,  ..., 0.4980, 0.4980, 0.4980],\n",
            "        [0.4980, 0.4980, 0.4980,  ..., 0.4980, 0.4980, 0.4980],\n",
            "        [0.4980, 0.4980, 0.4980,  ..., 0.4980, 0.4980, 0.4980]]), 'last_position': tensor([681.3333, 173.2500]), 'map': tensor([[0.4980, 0.4980, 0.4980,  ..., 0.4980, 0.4980, 0.4980],\n",
            "        [0.4980, 0.4980, 0.4980,  ..., 0.4980, 0.4980, 0.4980],\n",
            "        [0.4980, 0.4980, 0.4980,  ..., 0.4980, 0.4980, 0.4980],\n",
            "        ...,\n",
            "        [0.4980, 0.4980, 0.4980,  ..., 0.4980, 0.4980, 0.4980],\n",
            "        [0.4980, 0.4980, 0.4980,  ..., 0.4980, 0.4980, 0.4980],\n",
            "        [0.4980, 0.4980, 0.4980,  ..., 0.4980, 0.4980, 0.4980]]), 'position': tensor([1.0646, 0.3609]), 'reward': tensor([-1.]), 'action': tensor([-0.4839,  0.6617])}\n",
            "terminal True\n",
            "reward tensor([-1.])\n"
          ],
          "name": "stdout"
        },
        {
          "output_type": "display_data",
          "data": {
            "image/png": "[encoded data removed]",
            "text/plain": [
              "<Figure size 432x288 with 1 Axes>"
            ]
          },
          "metadata": {
            "tags": [],
            "needs_background": "light"
          }
        },
        {
          "output_type": "stream",
          "text": [
            "showing frontier\n"
          ],
          "name": "stdout"
        }
      ]
    },
    {
      "cell_type": "code",
      "metadata": {
        "id": "rmJmtbd1xtlx",
        "outputId": "0432c310-ec2c-4d30-b680-f54292ee57f2",
        "colab": {
          "base_uri": "https://localhost:8080/",
          "height": 711
        }
      },
      "source": [
        "test_map, test_position = test_replay.test_env.reset()\n",
        "import cv2\n",
        "\n",
        "def getfrontier(data, position):\n",
        "\tw=data.shape[1]\n",
        "\th=data.shape[0]\n",
        "\tresolution=mapData.info.resolution\n",
        "\tXstartx=position[1]\n",
        "\tXstarty=position[0]\n",
        "\t \n",
        "\timg = np.zeros((h, w, 1), np.uint8)\n",
        "\t\n",
        "\tfor i in range(0,h):\n",
        "\t\tfor j in range(0,w):\n",
        "\t\t\tif data[i*w+j]==100:\n",
        "\t\t\t\timg[i,j]=0\n",
        "\t\t\telif data[i*w+j]==0:\n",
        "\t\t\t\timg[i,j]=255\n",
        "\t\t\telif data[i*w+j]==-1:\n",
        "\t\t\t\timg[i,j]=205\n",
        "\t\n",
        "\t\n",
        "       \to=cv2.inRange(img,0,1)\n",
        "\tedges = cv2.Canny(img,0,255)\n",
        "\tim2, contours, hierarchy = cv2.findContours(o,cv2.RETR_TREE,cv2.CHAIN_APPROX_SIMPLE)\n",
        "\tcv2.drawContours(o, contours, -1, (255,255,255), 5)\n",
        "\to=cv2.bitwise_not(o) \n",
        "\tres = cv2.bitwise_and(o,edges)\n",
        "\t#------------------------------\n",
        "\n",
        "\tfrontier=copy(res)\n",
        "\tim2, contours, hierarchy = cv2.findContours(frontier,cv2.RETR_TREE,cv2.CHAIN_APPROX_SIMPLE)\n",
        "\tcv2.drawContours(frontier, contours, -1, (255,255,255), 2)\n",
        "\n",
        "\tim2, contours, hierarchy = cv2.findContours(frontier,cv2.RETR_TREE,cv2.CHAIN_APPROX_SIMPLE)\n",
        "\tall_pts=[]\n",
        "\tif len(contours)>0:\n",
        "\t\tupto=len(contours)-1\n",
        "\t\ti=0\n",
        "\t\tmaxx=0\n",
        "\t\tmaxind=0\n",
        "\t\t\n",
        "\t\tfor i in range(0,len(contours)):\n",
        "\t\t\t\tcnt = contours[i]\n",
        "\t\t\t\tM = cv2.moments(cnt)\n",
        "\t\t\t\tcx = int(M['m10']/M['m00'])\n",
        "\t\t\t\tcy = int(M['m01']/M['m00'])\n",
        "\t\t\t\txr=cx*resolution+Xstartx\n",
        "\t\t\t\tyr=cy*resolution+Xstarty\n",
        "\t\t\t\tpt=[np.array([xr,yr])]\n",
        "\t\t\t\tif len(all_pts)>0:\n",
        "\t\t\t\t\tall_pts=np.vstack([all_pts,pt])\n",
        "\t\t\t\telse:\n",
        "\t\t\t\t\t\t\t\n",
        "\t\t\t\t\tall_pts=pt\n",
        "\t\n",
        "\treturn all_pts\n",
        "\n",
        "\n",
        "pts = findFrontier(test_map)\n",
        "print(pts)\n",
        "plt.imshow(test_map)\n",
        "plt.scatter(pts[:, 0], pts[:, 1])"
      ],
      "execution_count": 63,
      "outputs": [
        {
          "output_type": "display_data",
          "data": {
            "image/png": "[encoded data removed]",
            "text/plain": [
              "<Figure size 432x288 with 1 Axes>"
            ]
          },
          "metadata": {
            "tags": [],
            "needs_background": "light"
          }
        },
        {
          "output_type": "stream",
          "text": [
            "[]\n"
          ],
          "name": "stdout"
        },
        {
          "output_type": "error",
          "ename": "TypeError",
          "evalue": "ignored",
          "traceback": [
            "\u001b[0;31m---------------------------------------------------------------------------\u001b[0m",
            "\u001b[0;31mTypeError\u001b[0m                                 Traceback (most recent call last)",
            "\u001b[0;32m<ipython-input-63-0e51fac0635a>\u001b[0m in \u001b[0;36m<module>\u001b[0;34m()\u001b[0m\n\u001b[1;32m     75\u001b[0m \u001b[0mprint\u001b[0m\u001b[0;34m(\u001b[0m\u001b[0mpts\u001b[0m\u001b[0;34m)\u001b[0m\u001b[0;34m\u001b[0m\u001b[0;34m\u001b[0m\u001b[0m\n\u001b[1;32m     76\u001b[0m \u001b[0mplt\u001b[0m\u001b[0;34m.\u001b[0m\u001b[0mimshow\u001b[0m\u001b[0;34m(\u001b[0m\u001b[0mtest_map\u001b[0m\u001b[0;34m)\u001b[0m\u001b[0;34m\u001b[0m\u001b[0;34m\u001b[0m\u001b[0m\n\u001b[0;32m---> 77\u001b[0;31m \u001b[0mplt\u001b[0m\u001b[0;34m.\u001b[0m\u001b[0mscatter\u001b[0m\u001b[0;34m(\u001b[0m\u001b[0mpts\u001b[0m\u001b[0;34m[\u001b[0m\u001b[0;34m:\u001b[0m\u001b[0;34m,\u001b[0m \u001b[0;36m0\u001b[0m\u001b[0;34m]\u001b[0m\u001b[0;34m,\u001b[0m \u001b[0mpts\u001b[0m\u001b[0;34m[\u001b[0m\u001b[0;34m:\u001b[0m\u001b[0;34m,\u001b[0m \u001b[0;36m1\u001b[0m\u001b[0;34m]\u001b[0m\u001b[0;34m)\u001b[0m\u001b[0;34m\u001b[0m\u001b[0;34m\u001b[0m\u001b[0m\n\u001b[0m",
            "\u001b[0;31mTypeError\u001b[0m: list indices must be integers or slices, not tuple"
          ]
        },
        {
          "output_type": "display_data",
          "data": {
            "image/png": "[encoded data removed]",
            "text/plain": [
              "<Figure size 432x288 with 1 Axes>"
            ]
          },
          "metadata": {
            "tags": [],
            "needs_background": "light"
          }
        }
      ]
    },
    {
      "cell_type": "code",
      "metadata": {
        "id": "msND-TrM6RJl",
        "colab": {
          "base_uri": "https://localhost:8080/",
          "height": 284
        },
        "outputId": "54b4a3e7-a7d7-4fe3-d8c2-98dcbfd12240"
      },
      "source": [
        "test = np.zeros((200, 200))\n",
        "test[5:10, 5:10] = 255\n",
        "plt.imshow(np.roll(test, (100, 100), [0, 1]), cmap='gray')"
      ],
      "execution_count": 92,
      "outputs": [
        {
          "output_type": "execute_result",
          "data": {
            "text/plain": [
              "<matplotlib.image.AxesImage at 0x7fd396693f28>"
            ]
          },
          "metadata": {
            "tags": []
          },
          "execution_count": 92
        },
        {
          "output_type": "display_data",
          "data": {
            "image/png": "[encoded data removed]",
            "text/plain": [
              "<Figure size 432x288 with 1 Axes>"
            ]
          },
          "metadata": {
            "tags": [],
            "needs_background": "light"
          }
        }
      ]
    },
    {
      "cell_type": "code",
      "metadata": {
        "id": "757uW0e01fDC"
      },
      "source": [
        ""
      ],
      "execution_count": 92,
      "outputs": []
    },
    {
      "cell_type": "code",
      "metadata": {
        "id": "UNMSF7AM1gCc"
      },
      "source": [
        ""
      ],
      "execution_count": null,
      "outputs": []
    },
    {
      "cell_type": "code",
      "metadata": {
        "id": "KUPSmjBC1glQ"
      },
      "source": [
        ""
      ],
      "execution_count": null,
      "outputs": []
    },
    {
      "cell_type": "code",
      "metadata": {
        "id": "yV_X1F7R1hMj"
      },
      "source": [
        ""
      ],
      "execution_count": null,
      "outputs": []
    },
    {
      "cell_type": "code",
      "metadata": {
        "id": "xjFt7JBRQVyT"
      },
      "source": [
        "reward_func = PaperRewardFunction()\n",
        "action_space = PolarActionSpace(30, 60)\n",
        "\n",
        "if laptop:\n",
        "    robot = Robot(0, True, False, 'DungeonMaps',action_space,reward_func, False)\n",
        "    test_robot = Robot(0, True, True, 'DungeonMaps',action_space,reward_func, False)\n",
        "else:\n",
        "    robot = Robot(0, True, False, 'DRL_robot_exploration/DungeonMaps',action_space,reward_func, False)\n",
        "    test_robot = Robot(0, True, True, 'DRL_robot_exploration/DungeonMaps',action_space,reward_func, False)"
      ],
      "execution_count": null,
      "outputs": []
    },
    {
      "cell_type": "code",
      "metadata": {
        "id": "DCg-zeJMGV5U",
        "scrolled": true
      },
      "source": [
        "replay = Replay(10000, 1000, 300, 4, 2, robot, test_robot, 640, 480)"
      ],
      "execution_count": null,
      "outputs": []
    },
    {
      "cell_type": "code",
      "metadata": {
        "id": "ieHIP9WFQ0t5"
      },
      "source": [
        "linear_dims = [(256, 1)]\n",
        "actor_linear_dims = [(512, 2)]\n",
        "conv_dims = [(1, 64, 8), (2, 2), (64, 128, 8), (2, 2), (128, 256, 8), (2, 2)]\n",
        "lstm_hidden = 512\n",
        "lstm_out = 2\n",
        "train_length = 4\n",
        "\n",
        "\n",
        "ddpg = DDPG(robot, conv_dims, lstm_hidden, linear_dims, actor_linear_dims, train_length, replay, 3e-4, 1e-10, 0.99, 300)"
      ],
      "execution_count": null,
      "outputs": []
    },
    {
      "cell_type": "code",
      "metadata": {
        "id": "hsCYdcqISY73",
        "scrolled": true
      },
      "source": [
        "ddpg.train(10000)"
      ],
      "execution_count": null,
      "outputs": []
    },
    {
      "cell_type": "code",
      "metadata": {
        "id": "27EP7x3dHd8N"
      },
      "source": [
        "ddpg.actor(torch.randn(1, 1, 84, 84).to(device='cuda'), torch.randn(1, 2).to(device='cuda'))"
      ],
      "execution_count": null,
      "outputs": []
    },
    {
      "cell_type": "code",
      "metadata": {
        "scrolled": true,
        "id": "XTS8wPa4ubxS"
      },
      "source": [
        "reward = 0\n",
        "\n",
        "test_map, test_position = replay.test_env.reset()\n",
        "test_map = resize(test_map, (168, 168))\n",
        "test_map = test_map / 255\n",
        "test_position = test_position.astype(np.float64)\n",
        "test_position[0] = test_position[0] / 480\n",
        "test_position[1] = test_position[1] / 640\n",
        "test_action = {'map':torch.from_numpy(test_map).float(), 'position':torch.from_numpy(test_position).float()}\n",
        "x = 0\n",
        "total_reward = 0\n",
        "while x < 300:\n",
        "    test_action, test_terminal = replay.generate_step(ActorPolicy(ddpg.actor), test_action, add_noise=False, store=False, test=True)\n",
        "    print('action', test_action)\n",
        "    print('terminal', test_terminal)\n",
        "    total_reward += test_action['reward'].item()\n",
        "    test_map = resize(test_map, (168, 168))\n",
        "    test_map = test_map / 255\n",
        "    test_position = test_position.astype(np.float64)\n",
        "    test_position[0] = test_position[0] / 480\n",
        "    test_position[1] = test_position[1] / 640\n",
        "    test_action = {'map':torch.from_numpy(test_map).float(), 'position':torch.from_numpy(test_position).float()}\n",
        "    if test_terminal:\n",
        "        break\n",
        "    x += 1"
      ],
      "execution_count": null,
      "outputs": []
    },
    {
      "cell_type": "code",
      "metadata": {
        "id": "kG55trJz-Cnw"
      },
      "source": [
        "init_policy = lambda map, pos, lengths: (torch.from_numpy(np.random.uniform(0, 1, (2,))).unsqueeze(0).unsqueeze(1), None, [1])\n",
        "ddpg.action_space = action_space\n",
        "ddpg.replay.generate_episode(init_policy, False, False, True, True)"
      ],
      "execution_count": null,
      "outputs": []
    },
    {
      "cell_type": "code",
      "metadata": {
        "id": "QzIsZcLC-NcR"
      },
      "source": [
        "np.sum(ddpg.replay.env.global_map == 255)"
      ],
      "execution_count": null,
      "outputs": []
    },
    {
      "cell_type": "code",
      "metadata": {
        "id": "rSsm56JjCda8"
      },
      "source": [
        "640 * 480"
      ],
      "execution_count": null,
      "outputs": []
    },
    {
      "cell_type": "code",
      "metadata": {
        "id": "PUD6ZRLZC2GK"
      },
      "source": [
        "test = nn.Linear(512, 2)\n",
        "\n",
        "vec = torch.randn(1, 1, 512)\n",
        "\n",
        "test(vec).size()"
      ],
      "execution_count": null,
      "outputs": []
    },
    {
      "cell_type": "code",
      "metadata": {
        "id": "s2z4lsEooyg9"
      },
      "source": [
        "fdfafdsfds"
      ],
      "execution_count": null,
      "outputs": []
    }
  ]
}